{
  "nbformat": 4,
  "nbformat_minor": 0,
  "metadata": {
    "colab": {
      "private_outputs": true,
      "provenance": [],
      "collapsed_sections": [
        "bKJF3rekwFvQ",
        "MSa1f5Uengrz",
        "g-ATYxFrGrvw",
        "Yfr_Vlr8HBkt",
        "8yEUt7NnHlrM",
        "tEA2Xm5dHt1r",
        "I79__PHVH19G",
        "Ou-I18pAyIpj",
        "fF3858GYyt-u",
        "4_0_7-oCpUZd",
        "hwyV_J3ipUZe",
        "3yB-zSqbpUZe",
        "dEUvejAfpUZe",
        "Fd15vwWVpUZf",
        "bn_IUdTipZyH",
        "49K5P_iCpZyH",
        "Nff-vKELpZyI",
        "kLW572S8pZyI",
        "dWbDXHzopZyI",
        "yLjJCtPM0KBk",
        "xiyOF9F70UgQ",
        "7wuGOrhz0itI",
        "id1riN9m0vUs",
        "578E2V7j08f6",
        "89xtkJwZ18nB",
        "67NQN5KX2AMe",
        "Iwf50b-R2tYG",
        "GMQiZwjn3iu7",
        "WVIkgGqN3qsr",
        "XkPnILGE3zoT",
        "Hlsf0x5436Go",
        "mT9DMSJo4nBL",
        "c49ITxTc407N",
        "OeJFEK0N496M",
        "9ExmJH0g5HBk",
        "cJNqERVU536h",
        "k5UmGsbsOxih",
        "T0VqWOYE6DLQ",
        "qBMux9mC6MCf",
        "-oLEiFgy-5Pf",
        "C74aWNz2AliB",
        "2DejudWSA-a0",
        "pEMng2IbBLp7",
        "rAdphbQ9Bhjc",
        "TNVZ9zx19K6k",
        "nqoHp30x9hH9",
        "rMDnDkt2B6du",
        "yiiVWRdJDDil",
        "1UUpS68QDMuG",
        "kexQrXU-DjzY",
        "T5CmagL3EC8N",
        "BhH2vgX9EjGr",
        "qjKvONjwE8ra",
        "P1XJ9OREExlT",
        "VFOzZv6IFROw",
        "TIqpNgepFxVj",
        "VfCC591jGiD4",
        "OB4l2ZhMeS1U",
        "ArJBuiUVfxKd",
        "4qY1EAkEfxKe",
        "PiV4Ypx8fxKe",
        "TfvqoZmBfxKf",
        "dJ2tPlVmpsJ0",
        "JWYfwnehpsJ1",
        "-jK_YjpMpsJ2",
        "HAih1iBOpsJ2",
        "zVGeBEFhpsJ2",
        "bmKjuQ-FpsJ3",
        "Fze-IPXLpx6K",
        "7AN1z2sKpx6M",
        "9PIHJqyupx6M",
        "_-qAgymDpx6N",
        "Z-hykwinpx6N",
        "h_CCil-SKHpo",
        "cBFFvTBNJzUa",
        "HvGl1hHyA_VK",
        "EyNgTHvd2WFk",
        "KH5McJBi2d8v",
        "iW_Lq9qf2h6X",
        "-Kee-DAl2viO",
        "gCX9965dhzqZ",
        "gIfDvo9L0UH2"
      ]
    },
    "kernelspec": {
      "name": "python3",
      "display_name": "Python 3"
    },
    "language_info": {
      "name": "python"
    }
  },
  "cells": [
    {
      "cell_type": "markdown",
      "source": [
        "# **Project Name**    -\n",
        "\n"
      ],
      "metadata": {
        "id": "vncDsAP0Gaoa"
      }
    },
    {
      "cell_type": "markdown",
      "source": [
        "##### **Project Type**    - Classification\n",
        "##### **Contribution**    - Team\n",
        "##### **Team Member 1 -** Taniya\n",
        "##### **Team Member 2 -** Vaishnavi Singh\n",
        "##### **Team Member 3 -** Vibhor Verma\n",
        "##### **Team Member 4 -** Vidhan Gupta"
      ],
      "metadata": {
        "id": "beRrZCGUAJYm"
      }
    },
    {
      "cell_type": "markdown",
      "source": [
        "# **Project Summary -**"
      ],
      "metadata": {
        "id": "FJNUwmbgGyua"
      }
    },
    {
      "cell_type": "markdown",
      "source": [
        "Project Summary: Medical Diagnosis Dataset\n",
        "\n",
        "Objective:\n",
        "The objective of this project was to develop a predictive model to assist medical professionals in diagnosing a specific medical condition based on patient data collected from various clinical tests and examinations.\n",
        "\n",
        "Dataset Description:\n",
        "The dataset consisted of anonymized patient records containing a variety of features relevant to the diagnosis of the medical condition. These features included demographic information (age, gender), clinical measurements (blood pressure, heart rate), laboratory test results (blood tests, imaging studies), and symptoms reported by the patient.\n",
        "\n",
        "Approach:\n",
        "\n",
        "Data Preprocessing: The dataset underwent preprocessing steps, including handling missing values, encoding categorical variables, and scaling numerical features.\n",
        "\n",
        "Exploratory Data Analysis (EDA): Exploratory data analysis was conducted to gain insights into the distribution of features, identify correlations, and understand the characteristics of the data.\n",
        "\n",
        "Feature Engineering: Feature engineering techniques were applied to extract relevant information from the dataset and create new features that could potentially improve the predictive performance of the model.\n",
        "\n",
        "Model Development: Various machine learning algorithms were trained and evaluated using cross-validation techniques. Hyperparameter tuning was performed to optimize the performance of the models.\n",
        "\n",
        "Model Evaluation: The performance of the models was evaluated using metrics such as accuracy, precision, recall, F1-score, and area under the receiver operating characteristic (ROC) curve.\n",
        "\n",
        "Deployment: The best-performing model was selected for deployment, and recommendations were made for integrating the model into clinical practice, considering ethical and regulatory requirements.\n",
        "\n",
        "Challenges:\n",
        "\n",
        "Dealing with imbalanced data.\n",
        "Handling missing values and outliers.\n",
        "Selecting informative features for model development.\n",
        "Ensuring interpretability and explainability of the predictive model.\n",
        "Results:\n",
        "The developed predictive model demonstrated promising performance in diagnosing the medical condition, achieving high accuracy and other relevant evaluation metrics. The model provides a valuable decision-support tool for medical professionals, potentially leading to improved patient outcomes and more efficient healthcare delivery."
      ],
      "metadata": {
        "id": "F6v_1wHtG2nS"
      }
    },
    {
      "cell_type": "markdown",
      "source": [
        "# **GitHub Link -**"
      ],
      "metadata": {
        "id": "w6K7xa23Elo4"
      }
    },
    {
      "cell_type": "markdown",
      "source": [
        "Provide your GitHub Link here:-\n"
      ],
      "metadata": {
        "id": "h1o69JH3Eqqn"
      }
    },
    {
      "cell_type": "markdown",
      "source": [
        "# **Problem Statement**\n"
      ],
      "metadata": {
        "id": "yQaldy8SH6Dl"
      }
    },
    {
      "cell_type": "markdown",
      "source": [
        "The healthcare sector has witnessed significant reflections of the overall economy in recent decades, with a particular focus on medical diagnosis datasets. Analyzing the diverse facets of this dataset is crucial for both healthcare practitioners and researchers. In this project, we delve into various use cases, exploring different dimensions of medical diagnoses. This analysis not only unveils meaningful relationships between attributes but also empowers us to conduct independent research and derive valuable insights.\n",
        "Data analysis on extensive medical diagnosis datasets holds paramount importance, offering valuable insights for the entire healthcare ecosystem. Our focus encompasses understanding the distribution of diagnoses based on factors such as patient demographics, medical conditions, diagnostic methods, and other pertinent elements. Through this exploration, we aim to unravel patterns, correlations, and trends within the dataset, enabling a comprehensive understanding of the diverse factors influencing medical diagnoses.\n",
        "\n"
      ],
      "metadata": {
        "id": "DpeJGUA3kjGy"
      }
    },
    {
      "cell_type": "markdown",
      "source": [
        "# **General Guidelines** : -  "
      ],
      "metadata": {
        "id": "mDgbUHAGgjLW"
      }
    },
    {
      "cell_type": "markdown",
      "source": [
        "1.   Well-structured, formatted, and commented code is required.\n",
        "2.   Exception Handling, Production Grade Code & Deployment Ready Code will be a plus. Those students will be awarded some additional credits.\n",
        "     \n",
        "     The additional credits will have advantages over other students during Star Student selection.\n",
        "       \n",
        "             [ Note: - Deployment Ready Code is defined as, the whole .ipynb notebook should be executable in one go\n",
        "                       without a single error logged. ]\n",
        "\n",
        "3.   Each and every logic should have proper comments.\n",
        "4. You may add as many number of charts you want. Make Sure for each and every chart the following format should be answered.\n",
        "        \n",
        "\n",
        "```\n",
        "# Chart visualization code\n",
        "```\n",
        "            \n",
        "\n",
        "*   Why did you pick the specific chart?\n",
        "*   What is/are the insight(s) found from the chart?\n",
        "* Will the gained insights help creating a positive business impact?\n",
        "Are there any insights that lead to negative growth? Justify with specific reason.\n",
        "\n",
        "5. You have to create at least 15 logical & meaningful charts having important insights.\n",
        "\n",
        "\n",
        "[ Hints : - Do the Vizualization in  a structured way while following \"UBM\" Rule.\n",
        "\n",
        "U - Univariate Analysis,\n",
        "\n",
        "B - Bivariate Analysis (Numerical - Categorical, Numerical - Numerical, Categorical - Categorical)\n",
        "\n",
        "M - Multivariate Analysis\n",
        " ]\n",
        "\n",
        "\n",
        "\n",
        "\n",
        "\n",
        "6. You may add more ml algorithms for model creation. Make sure for each and every algorithm, the following format should be answered.\n",
        "\n",
        "\n",
        "*   Explain the ML Model used and it's performance using Evaluation metric Score Chart.\n",
        "\n",
        "\n",
        "*   Cross- Validation & Hyperparameter Tuning\n",
        "\n",
        "*   Have you seen any improvement? Note down the improvement with updates Evaluation metric Score Chart.\n",
        "\n",
        "*   Explain each evaluation metric's indication towards business and the business impact pf the ML model used.\n",
        "\n",
        "\n",
        "\n",
        "\n",
        "\n",
        "\n",
        "\n",
        "\n",
        "\n",
        "\n",
        "\n",
        "\n",
        "\n",
        "\n",
        "\n",
        "\n",
        "\n",
        "\n"
      ],
      "metadata": {
        "id": "ZrxVaUj-hHfC"
      }
    },
    {
      "cell_type": "markdown",
      "source": [
        "# ***Let's Begin !***"
      ],
      "metadata": {
        "id": "O_i_v8NEhb9l"
      }
    },
    {
      "cell_type": "markdown",
      "source": [
        "## ***1. Know Your Data***"
      ],
      "metadata": {
        "id": "HhfV-JJviCcP"
      }
    },
    {
      "cell_type": "markdown",
      "source": [
        "### Import Libraries"
      ],
      "metadata": {
        "id": "Y3lxredqlCYt"
      }
    },
    {
      "cell_type": "code",
      "source": [
        "# Import Libraries\n",
        "import pandas as pd\n",
        "import numpy as np\n",
        "import matplotlib.pyplot as plt\n",
        "import seaborn as sns"
      ],
      "metadata": {
        "id": "M8Vqi-pPk-HR"
      },
      "execution_count": null,
      "outputs": []
    },
    {
      "cell_type": "markdown",
      "source": [
        "### Dataset Loading"
      ],
      "metadata": {
        "id": "3RnN4peoiCZX"
      }
    },
    {
      "cell_type": "code",
      "source": [
        "# Load Dataset\n",
        "df=pd.read_csv('/content/healthcare_dataset.csv')"
      ],
      "metadata": {
        "id": "4CkvbW_SlZ_R"
      },
      "execution_count": null,
      "outputs": []
    },
    {
      "cell_type": "markdown",
      "source": [
        "### Dataset First View"
      ],
      "metadata": {
        "id": "x71ZqKXriCWQ"
      }
    },
    {
      "cell_type": "code",
      "source": [
        "# Dataset First Look\n",
        "df.describe()"
      ],
      "metadata": {
        "id": "LWNFOSvLl09H"
      },
      "execution_count": null,
      "outputs": []
    },
    {
      "cell_type": "markdown",
      "source": [
        "### Dataset Rows & Columns count"
      ],
      "metadata": {
        "id": "7hBIi_osiCS2"
      }
    },
    {
      "cell_type": "code",
      "source": [
        "# Dataset Rows & Columns count\n",
        "print(\"Number of rows: \",len(df))\n",
        "print(\"Number of columns: \",len(df.columns))"
      ],
      "metadata": {
        "id": "Kllu7SJgmLij"
      },
      "execution_count": null,
      "outputs": []
    },
    {
      "cell_type": "markdown",
      "source": [
        "### Dataset Information"
      ],
      "metadata": {
        "id": "JlHwYmJAmNHm"
      }
    },
    {
      "cell_type": "code",
      "source": [
        "# Dataset Info\n",
        "df.info()"
      ],
      "metadata": {
        "id": "e9hRXRi6meOf"
      },
      "execution_count": null,
      "outputs": []
    },
    {
      "cell_type": "markdown",
      "source": [
        "#### Duplicate Values"
      ],
      "metadata": {
        "id": "35m5QtbWiB9F"
      }
    },
    {
      "cell_type": "code",
      "source": [
        "# Dataset Duplicate Value Count\n",
        "df.duplicated().sum()"
      ],
      "metadata": {
        "id": "1sLdpKYkmox0"
      },
      "execution_count": null,
      "outputs": []
    },
    {
      "cell_type": "markdown",
      "source": [
        "#### Missing Values/Null Values"
      ],
      "metadata": {
        "id": "PoPl-ycgm1ru"
      }
    },
    {
      "cell_type": "code",
      "source": [
        "# Missing Values/Null Values Count\n",
        "df.isnull().sum()"
      ],
      "metadata": {
        "id": "GgHWkxvamxVg"
      },
      "execution_count": null,
      "outputs": []
    },
    {
      "cell_type": "code",
      "source": [
        "# Visualizing the missing values\n"
      ],
      "metadata": {
        "id": "3q5wnI3om9sJ"
      },
      "execution_count": null,
      "outputs": []
    },
    {
      "cell_type": "markdown",
      "source": [
        "\n"
      ],
      "metadata": {
        "id": "GxRNzXags3RW"
      }
    },
    {
      "cell_type": "markdown",
      "source": [
        "### What did you know about your dataset?"
      ],
      "metadata": {
        "id": "H0kj-8xxnORC"
      }
    },
    {
      "cell_type": "markdown",
      "source": [
        "Answer Here"
      ],
      "metadata": {
        "id": "gfoNAAC-nUe_"
      }
    },
    {
      "cell_type": "markdown",
      "source": [
        "## ***2. Understanding Your Variables***"
      ],
      "metadata": {
        "id": "nA9Y7ga8ng1Z"
      }
    },
    {
      "cell_type": "code",
      "source": [
        "# Dataset Columns\n",
        "df.columns"
      ],
      "metadata": {
        "id": "j7xfkqrt5Ag5"
      },
      "execution_count": null,
      "outputs": []
    },
    {
      "cell_type": "code",
      "source": [
        "# Dataset Describe\n",
        "df.describe()"
      ],
      "metadata": {
        "id": "DnOaZdaE5Q5t"
      },
      "execution_count": null,
      "outputs": []
    },
    {
      "cell_type": "markdown",
      "source": [
        "### Variables Description"
      ],
      "metadata": {
        "id": "PBTbrJXOngz2"
      }
    },
    {
      "cell_type": "markdown",
      "source": [
        "Answer Here"
      ],
      "metadata": {
        "id": "aJV4KIxSnxay"
      }
    },
    {
      "cell_type": "markdown",
      "source": [
        "### Check Unique Values for each variable."
      ],
      "metadata": {
        "id": "u3PMJOP6ngxN"
      }
    },
    {
      "cell_type": "code",
      "source": [
        "# Check Unique Values for each variable.\n",
        "unique_values = df.nunique()\n",
        "print(\"Unique values in the 'Variable' column:\")\n",
        "print(unique_values)\n"
      ],
      "metadata": {
        "id": "zms12Yq5n-jE"
      },
      "execution_count": null,
      "outputs": []
    },
    {
      "cell_type": "markdown",
      "source": [
        "## 3. ***Data Wrangling***"
      ],
      "metadata": {
        "id": "dauF4eBmngu3"
      }
    },
    {
      "cell_type": "markdown",
      "source": [
        "### Data Wrangling Code"
      ],
      "metadata": {
        "id": "bKJF3rekwFvQ"
      }
    },
    {
      "cell_type": "code",
      "source": [
        "# Write your code to make your dataset analysis ready."
      ],
      "metadata": {
        "id": "wk-9a2fpoLcV"
      },
      "execution_count": null,
      "outputs": []
    },
    {
      "cell_type": "markdown",
      "source": [
        "### What all manipulations have you done and insights you found?"
      ],
      "metadata": {
        "id": "MSa1f5Uengrz"
      }
    },
    {
      "cell_type": "markdown",
      "source": [
        "Answer Here."
      ],
      "metadata": {
        "id": "LbyXE7I1olp8"
      }
    },
    {
      "cell_type": "markdown",
      "source": [
        "## ***4. Data Vizualization, Storytelling & Experimenting with charts : Understand the relationships between variables***"
      ],
      "metadata": {
        "id": "GF8Ens_Soomf"
      }
    },
    {
      "cell_type": "markdown",
      "source": [
        "#### Chart - 1"
      ],
      "metadata": {
        "id": "0wOQAZs5pc--"
      }
    },
    {
      "cell_type": "code",
      "source": [
        "# Chart - 1 visualization code\n",
        "# Plot of patients based on sex\n",
        "df['Gender'].value_counts().plot(kind='bar', color='orange', ec=\"black\")\n",
        "plt.title(\"Chart of male and female Patients\")\n",
        "plt.xlabel(\"Gender\")\n",
        "plt.ylabel(\"Count\")\n",
        "for index, value in enumerate(df['Gender'].value_counts()):\n",
        "    plt.text(index, value + 0.1, str(value), ha='center', va='bottom')\n",
        "plt.show()"
      ],
      "metadata": {
        "id": "7v_ESjsspbW7"
      },
      "execution_count": null,
      "outputs": []
    },
    {
      "cell_type": "markdown",
      "source": [
        "##### 1. Why did you pick the specific chart?"
      ],
      "metadata": {
        "id": "K5QZ13OEpz2H"
      }
    },
    {
      "cell_type": "markdown",
      "source": [
        "*Answer= I choose a bar chart for this data because it's effective for displaying the count of categories, in this case, male and female patients. The bars make it easy to compare the number of males and females, and the color contrast (orange bars with black outlines) makes the chart visually appealing and easy to interpret."
      ],
      "metadata": {
        "id": "XESiWehPqBRc"
      }
    },
    {
      "cell_type": "markdown",
      "source": [
        "##### 2. What is/are the insight(s) found from the chart?"
      ],
      "metadata": {
        "id": "lQ7QKXXCp7Bj"
      }
    },
    {
      "cell_type": "markdown",
      "source": [
        "Answer= we can gather insights into the distribution of genders among patients. By observing the heights of the bars, we can see which gender category has a higher count. This insight can be valuable for various purposes, such as understanding the demographics of patients, targeting specific healthcare interventions or services towards certain genders, or identifying potential biases in the patient population."
      ],
      "metadata": {
        "id": "C_j1G7yiqdRP"
      }
    },
    {
      "cell_type": "markdown",
      "source": [
        "##### 3. Will the gained insights help creating a positive business impact?\n",
        "Are there any insights that lead to negative growth? Justify with specific reason."
      ],
      "metadata": {
        "id": "448CDAPjqfQr"
      }
    },
    {
      "cell_type": "markdown",
      "source": [
        "Answer\n",
        "Yes, the insights gained from understanding the gender distribution among patients can indeed lead to positive business impacts in several ways:\n",
        "\n",
        "Targeted Marketing and Services: Knowing the gender distribution can help tailor marketing efforts and healthcare services to better meet the needs of specific demographics. For instance, if there's a higher proportion of females, services related to women's health could be expanded or emphasized.\n",
        "\n",
        "Resource Allocation: Understanding the gender distribution can assist in resource allocation within the healthcare facility. For example, if there's a significant difference in the number of male and female patients, staffing levels and resource allocation can be adjusted accordingly.\n",
        "\n",
        "Improving Patient Experience: Tailoring services to match the demographics of the patient population can lead to a more positive experience for patients. This can include everything from the design of facilities to the availability of certain healthcare services."
      ],
      "metadata": {
        "id": "3cspy4FjqxJW"
      }
    },
    {
      "cell_type": "markdown",
      "source": [
        "#### Chart - 2"
      ],
      "metadata": {
        "id": "KSlN3yHqYklG"
      }
    },
    {
      "cell_type": "code",
      "source": [
        "# Age distribution\n",
        "plt.figure(figsize=(8, 6))\n",
        "sns.histplot(df['Age'], bins=20, kde=True, color='skyblue')\n",
        "plt.title('Age Distribution')\n",
        "plt.xlabel('Age')\n",
        "plt.ylabel('Frequency')\n",
        "plt.show()"
      ],
      "metadata": {
        "id": "R4YgtaqtYklH"
      },
      "execution_count": null,
      "outputs": []
    },
    {
      "cell_type": "markdown",
      "source": [
        "##### 1. Why did you pick the specific chart?"
      ],
      "metadata": {
        "id": "t6dVpIINYklI"
      }
    },
    {
      "cell_type": "markdown",
      "source": [
        "Answer Here. a histogram is a common and effective choice when you want to visualize the distribution of a continuous numerical variable like age. It provides a clear and concise representation of the data's frequency distribution."
      ],
      "metadata": {
        "id": "5aaW0BYyYklI"
      }
    },
    {
      "cell_type": "markdown",
      "source": [
        "##### 2. What is/are the insight(s) found from the chart?"
      ],
      "metadata": {
        "id": "ijmpgYnKYklI"
      }
    },
    {
      "cell_type": "markdown",
      "source": [
        "Answer Here\n",
        "general insights that you might gain from examining the age distribution histogram:\n",
        "\n",
        "Central Tendency: Check where the histogram has its peak (mode). This can give you an idea of the most common age or age range in your dataset.\n",
        "\n",
        "Spread of Ages: Observe the width and shape of the distribution. A wider distribution might indicate a broader range of ages in your dataset.\n",
        "\n",
        "Skewness: If the histogram is asymmetric, it might indicate skewness in the age distribution. A longer tail on one side could suggest that the data is skewed in that direction.\n",
        "\n",
        "Bimodal or Multimodal Patterns: If there are multiple peaks, it might indicate the presence of distinct groups or patterns within the age distribution.\n",
        "\n",
        "Outliers: Look for any unusual spikes or isolated bars that might represent outliers or specific age groups that are overrepresented or underrepresented.\n",
        "\n",
        "General Age Patterns: Depending on your dataset, you might observe specific patterns related to age, such as a large proportion of young or older individuals."
      ],
      "metadata": {
        "id": "PSx9atu2YklI"
      }
    },
    {
      "cell_type": "markdown",
      "source": [
        "##### 3. Will the gained insights help creating a positive business impact?\n",
        "Are there any insights that lead to negative growth? Justify with specific reason."
      ],
      "metadata": {
        "id": "-JiQyfWJYklI"
      }
    },
    {
      "cell_type": "markdown",
      "source": [
        "Answer Here= while insights from age distribution analysis can lead to positive business impact, businesses must also be mindful of potential pitfalls and actively address challenges to sustain growth and competitiveness in the long term. It's essential to use age distribution data as part of a comprehensive strategy that considers broader market dynamics and evolving consumer trends."
      ],
      "metadata": {
        "id": "BcBbebzrYklV"
      }
    },
    {
      "cell_type": "markdown",
      "source": [
        "#### Chart - 3"
      ],
      "metadata": {
        "id": "EM7whBJCYoAo"
      }
    },
    {
      "cell_type": "code",
      "source": [
        "# Medical Condition distribution\n",
        "plt.figure(figsize=(12, 8))\n",
        "df['Medical Condition'].value_counts().plot(kind='pie', autopct='%1.1f%%', startangle=90, colors=sns.color_palette('pastel'))\n",
        "plt.title(\"Medical Condition Distribution\")\n",
        "plt.show()"
      ],
      "metadata": {
        "id": "t6GMdE67YoAp"
      },
      "execution_count": null,
      "outputs": []
    },
    {
      "cell_type": "markdown",
      "source": [
        "\n",
        "\n"
      ],
      "metadata": {
        "id": "fge-S5ZAYoAp"
      }
    },
    {
      "cell_type": "markdown",
      "source": [
        "#####  1. Why did you pick the specific chart?"
      ],
      "metadata": {
        "id": "QNSq-5gmyCaL"
      }
    },
    {
      "cell_type": "markdown",
      "source": [],
      "metadata": {
        "id": "bqZ4twhuyJBx"
      }
    },
    {
      "cell_type": "markdown",
      "source": [
        "Answer Here It's important to note that while pie charts can be effective for certain types of data, they may not be the best choice in all situations. Bar charts or stacked bar charts could be alternatives, especially if you have a larger number of categories or if you want to emphasize comparisons between specific conditions."
      ],
      "metadata": {
        "id": "7hi3BiazyCaL"
      }
    },
    {
      "cell_type": "markdown",
      "source": [
        "##### 2. What is/are the insight(s) found from the chart?"
      ],
      "metadata": {
        "id": "85gYPyotYoAp"
      }
    },
    {
      "cell_type": "markdown",
      "source": [
        "Answer Here =\n",
        "general insights that you might gain from analyzing the 'Medical Condition' distribution pie chart:\n",
        "\n",
        "Dominant Medical Conditions: Identify the most prevalent medical conditions by looking at the largest slices of the pie. This information can be valuable for resource allocation, healthcare planning, or targeted medical interventions.\n",
        "\n",
        "Rare or Uncommon Conditions: Evaluate whether there are any medical conditions that constitute a small percentage of the pie. Understanding these less common conditions might be crucial for specialized care or research.\n",
        "\n",
        "Proportionate Distribution: Assess the overall balance in the distribution. A well-balanced pie chart with fairly equal slices suggests a diverse distribution of medical conditions, while a skewed distribution may indicate a more concentrated prevalence of certain conditions.\n",
        "\n",
        "Communication to Stakeholders: The pie chart can be a useful visual aid for communicating the distribution of medical conditions to stakeholders who may not be familiar with detailed numerical data. It simplifies complex information for easier comprehension.\n",
        "\n",
        "Monitoring Changes Over Time: If you have data across different time periods, you can use the pie chart to observe changes in the distribution of medical conditions. Shifts in the proportions may indicate trends or changes in the population's health.\n",
        "\n",
        "Identification of Critical Conditions: Highlighting critical or more severe medical conditions can help prioritize healthcare initiatives, research efforts, and resource allocation based on the prevalence of certain conditions."
      ],
      "metadata": {
        "id": "4jstXR6OYoAp"
      }
    },
    {
      "cell_type": "markdown",
      "source": [
        "##### 3. Will the gained insights help creating a positive business impact?\n",
        "Are there any insights that lead to negative growth? Justify with specific reason."
      ],
      "metadata": {
        "id": "RoGjAbkUYoAp"
      }
    },
    {
      "cell_type": "markdown",
      "source": [
        "Answer Here Positive Business Impact:\n",
        "\n",
        "Targeted Healthcare Services: Understanding the distribution of medical conditions allows healthcare providers to offer more targeted and specialized services. Tailoring healthcare services to prevalent conditions can enhance patient care and satisfaction.\n",
        "\n",
        "Resource Allocation: Insights from the pie chart can guide resource allocation. Healthcare facilities can allocate resources such as medical staff, equipment, and medication based on the prevalence of specific medical conditions, improving operational efficiency.\n",
        "\n",
        "Negative Business Impact:\n",
        "\n",
        "Limited Market Scope: If a healthcare business heavily relies on addressing a specific medical condition and that condition has a relatively low prevalence, it may face challenges in market growth. Diversification or expanding services to address a broader range of conditions may be necessary.\n",
        "\n",
        "Neglect of Emerging Conditions: A focus solely on prevalent conditions might result in overlooking emerging health issues or conditions that are gaining significance. Failure to adapt to changing healthcare trends could lead to missed opportunities and negative growth."
      ],
      "metadata": {
        "id": "zfJ8IqMcYoAp"
      }
    },
    {
      "cell_type": "markdown",
      "source": [
        "#### Chart - 4"
      ],
      "metadata": {
        "id": "4Of9eVA-YrdM"
      }
    },
    {
      "cell_type": "code",
      "source": [
        "#Date of Admission trends\n",
        "plt.figure(figsize=(12, 6))\n",
        "df['Date of Admission'] = pd.to_datetime(df['Date of Admission'])\n",
        "df.set_index('Date of Admission').resample('M').size().plot(label='Monthly Admissions', color='purple')\n",
        "plt.title('Monthly Admissions Trend')\n",
        "plt.xlabel('Date of Admission')\n",
        "plt.ylabel('Count')\n",
        "plt.legend()\n",
        "plt.show()"
      ],
      "metadata": {
        "id": "irlUoxc8YrdO"
      },
      "execution_count": null,
      "outputs": []
    },
    {
      "cell_type": "markdown",
      "source": [
        "##### 1. Why did you pick the specific chart?"
      ],
      "metadata": {
        "id": "iky9q4vBYrdO"
      }
    },
    {
      "cell_type": "markdown",
      "source": [
        "Answer Here. the time series line plot is chosen because it is well-suited for displaying the temporal evolution of monthly admissions, enabling you to gain insights into patterns, trends, and potential seasonality in the admission data."
      ],
      "metadata": {
        "id": "aJRCwT6DYrdO"
      }
    },
    {
      "cell_type": "markdown",
      "source": [
        "##### 2. What is/are the insight(s) found from the chart?"
      ],
      "metadata": {
        "id": "F6T5p64dYrdO"
      }
    },
    {
      "cell_type": "markdown",
      "source": [
        "Answer Here\n",
        "eneral insights that you might gain from analyzing the 'Monthly Admissions Trend' time series line plot:\n",
        "\n",
        "Overall Trend: Evaluate the general trend in monthly admissions. A rising trend may indicate an increase in demand for services, while a falling trend may suggest a decrease. This insight can be valuable for capacity planning and resource allocation.\n",
        "\n",
        "Seasonal Patterns: Look for repeating patterns or seasonality in the data. Seasonal variations may be evident, with certain months experiencing consistently higher or lower admission counts. Understanding seasonality is crucial for effective resource management.\n",
        "\n",
        "Anomalies or Outliers: Identify any unusual spikes or dips in the line plot. These anomalies could be due to specific events, holidays, or external factors affecting admission rates. Investigating these anomalies can provide insights into the factors influencing admissions."
      ],
      "metadata": {
        "id": "Xx8WAJvtYrdO"
      }
    },
    {
      "cell_type": "markdown",
      "source": [
        "##### 3. Will the gained insights help creating a positive business impact?\n",
        "Are there any insights that lead to negative growth? Justify with specific reason."
      ],
      "metadata": {
        "id": "y-Ehk30pYrdP"
      }
    },
    {
      "cell_type": "markdown",
      "source": [
        "Answer Here\n",
        "Yes, the insights gained from analyzing the 'Monthly Admissions Trend' can contribute to creating a positive business impact, especially in the healthcare industry. Here are ways in which these insights can be valuable:\n",
        "\n",
        "Capacity Planning: Understanding the overall trend in monthly admissions allows healthcare facilities to plan and allocate resources effectively. It helps in optimizing staffing levels, ensuring sufficient beds and medical supplies, and avoiding potential bottlenecks during peak admission periods.\n",
        "\n",
        "Resource Optimization: Identifying seasonal patterns and anomalies helps in optimizing resources based on demand. Healthcare providers can adjust staffing levels, schedules, and resource distribution to match the expected variations in admission rates.\n",
        "\n",
        "Improved Patient Experience: Anticipating trends in admissions allows healthcare facilities to enhance patient experience by ensuring timely and efficient service. Adequate staffing during busy periods can lead to shorter wait times and better overall patient satisfaction.\n",
        "The insights gained from analyzing the monthly admissions trend have the potential to positively impact business operations, patient care, and strategic planning within the healthcare industry."
      ],
      "metadata": {
        "id": "jLNxxz7MYrdP"
      }
    },
    {
      "cell_type": "markdown",
      "source": [
        "#### Chart - 5"
      ],
      "metadata": {
        "id": "bamQiAODYuh1"
      }
    },
    {
      "cell_type": "code",
      "source": [
        "# Chart - 5 visualization code\n",
        "#Age distribution of diabetic patients\n",
        "new_df=df[df['Medical Condition']==\"Diabetes\"]\n",
        "new=new_df.groupby('Age')['Name'].count().reset_index();\n",
        "new.columns=[\"Age\",\"Count\"]\n",
        "new\n",
        "plt.scatter(new['Age'],new['Count'],color=\"orange\",marker=\"+\");\n",
        "plt.xlabel(\"Age\");\n",
        "plt.ylabel(\"Count\");\n",
        "plt.title(\"Age Distribution of Diabetes patient\")"
      ],
      "metadata": {
        "id": "TIJwrbroYuh3"
      },
      "execution_count": null,
      "outputs": []
    },
    {
      "cell_type": "markdown",
      "source": [
        "##### 1. Why did you pick the specific chart?"
      ],
      "metadata": {
        "id": "QHF8YVU7Yuh3"
      }
    },
    {
      "cell_type": "markdown",
      "source": [
        "Answer Here.Individual Data Points: A scatter plot is suitable when you want to visualize individual data points, making it effective for showing the distribution of diabetic patients across different age groups.\n",
        "\n",
        "Quantitative Representation: The scatter plot allows for the quantitative representation of the count of diabetic patients at each age. Each point on the plot represents a specific age group along with the corresponding count.\n",
        "\n",
        "Relationship between Variables: Scatter plots are excellent for examining relationships between two continuous variables, in this case, age (independent variable) and the count of diabetic patients (dependent variable).\n",
        "\n",
        "Visualizing Patterns: The scatter plot helps in identifying patterns, clusters, or trends in the distribution of diabetic patients across different age groups. Patterns in the data may reveal insights into prevalence or concentration at specific ages."
      ],
      "metadata": {
        "id": "dcxuIMRPYuh3"
      }
    },
    {
      "cell_type": "markdown",
      "source": [
        "##### 2. What is/are the insight(s) found from the chart?"
      ],
      "metadata": {
        "id": "GwzvFGzlYuh3"
      }
    },
    {
      "cell_type": "markdown",
      "source": [
        "Answer Here\n",
        "general insights that you might infer from analyzing the \"Age Distribution of Diabetes Patients\" scatter plot:\n",
        "\n",
        "Prevalence Across Age Groups: Identify the age groups with the highest and lowest counts of diabetic patients. This insight can guide healthcare providers in targeting specific age groups for diabetes prevention and management programs.\n",
        "\n",
        "Patterns or Trends: Examine the scatter plot for any discernible patterns or trends. Are there certain age ranges where the prevalence of diabetes appears to increase or decrease? Understanding such patterns can inform public health initiatives.\n",
        "\n",
        "Outliers: Look for any points that deviate significantly from the general trend. Outliers may indicate unique characteristics in certain age groups that could be further investigated. For example, a sudden spike in diabetes cases in a specific age group may warrant additional scrutiny.\n",
        "\n",
        "Age-Related Risk Factors: Consider whether the distribution aligns with known age-related risk factors for diabetes. Insights from the scatter plot can help healthcare professionals tailor preventive measures and screenings based on age-specific considerations."
      ],
      "metadata": {
        "id": "uyqkiB8YYuh3"
      }
    },
    {
      "cell_type": "markdown",
      "source": [
        "##### 3. Will the gained insights help creating a positive business impact?\n",
        "Are there any insights that lead to negative growth? Justify with specific reason."
      ],
      "metadata": {
        "id": "qYpmQ266Yuh3"
      }
    },
    {
      "cell_type": "markdown",
      "source": [
        "Answer Here\n",
        "Positive Business Impact:\n",
        "\n",
        "Targeted Healthcare Services: Insights into the age distribution of diabetic patients enable healthcare providers to offer more targeted and specialized services. Tailoring healthcare services to prevalent age groups can enhance patient care, leading to positive outcomes and patient satisfaction.\n",
        "\n",
        "Preventive Measures: Identifying age groups with a higher prevalence of diabetes allows for the implementation of targeted preventive measures. Early detection, screening programs, and lifestyle interventions can contribute to better disease management and improved health outcomes.\n",
        "\n",
        "Resource Allocation: The data can inform resource allocation strategies. Healthcare facilities can allocate resources, including medical staff, equipment, and educational materials, based on the age groups with higher diabetes prevalence, optimizing operational efficiency.\n",
        "\n",
        "Potential Negative Impacts:\n",
        "\n",
        "Resource Strain: If there is an imbalance in the age distribution, with a disproportionately higher prevalence of diabetes in certain age groups, it may strain healthcare resources. The increased demand for services in specific age groups could lead to resource shortages if not addressed.\n",
        "\n",
        "Health Inequities: Identifying disparities in diabetes prevalence across age groups may highlight health inequities. Focusing exclusively on certain age demographics could exacerbate existing disparities and neglect other vulnerable populations.\n",
        "\n",
        "Neglect of Other Factors: Relying solely on age distribution may neglect other important factors influencing diabetes prevalence, such as socio-economic status, lifestyle, and genetic factors. A comprehensive approach that considers multiple determinants is essential."
      ],
      "metadata": {
        "id": "_WtzZ_hCYuh4"
      }
    },
    {
      "cell_type": "markdown",
      "source": [
        "#### Chart - 6"
      ],
      "metadata": {
        "id": "OH-pJp9IphqM"
      }
    },
    {
      "cell_type": "code",
      "source": [
        "# Chart - 6 visualization code\n",
        "# 6. Doctor distribution\n",
        "plt.figure(figsize=(10, 6))\n",
        "df['Doctor'].value_counts().nlargest(10).plot(kind='barh', color='teal', edgecolor='black')\n",
        "plt.title(\"Top 10 Doctors by Patient Count\")\n",
        "plt.xlabel(\"Count\")\n",
        "plt.ylabel(\"Doctor\")\n",
        "plt.show()"
      ],
      "metadata": {
        "id": "kuRf4wtuphqN"
      },
      "execution_count": null,
      "outputs": []
    },
    {
      "cell_type": "markdown",
      "source": [
        "##### 1. Why did you pick the specific chart?"
      ],
      "metadata": {
        "id": "bbFf2-_FphqN"
      }
    },
    {
      "cell_type": "markdown",
      "source": [
        "Answer Here. Top-N Comparison: A horizontal bar chart is effective for comparing the counts of the top N doctors with the highest patient counts. It provides a clear visual representation of the most prominent doctors in terms of patient engagement.\n",
        "\n",
        "Space-Efficient: A horizontal bar chart is space-efficient when dealing with a limited number of categories (in this case, doctors). It allows for easy comparison of the top doctors without cluttering the visualization.\n",
        "\n",
        "Readability: Horizontal bar charts are often more readable when dealing with long category labels, such as doctor names. The horizontal orientation allows for better visibility and avoids crowding of labels."
      ],
      "metadata": {
        "id": "loh7H2nzphqN"
      }
    },
    {
      "cell_type": "markdown",
      "source": [
        "##### 2. What is/are the insight(s) found from the chart?"
      ],
      "metadata": {
        "id": "_ouA3fa0phqN"
      }
    },
    {
      "cell_type": "markdown",
      "source": [
        "Answer Here\n",
        "general insights that you might infer from analyzing the \"Top 10 Doctors by Patient Count\" horizontal bar chart:\n",
        "\n",
        "High-Performing Doctors: Identify the doctors with the highest patient counts. These doctors are likely to be the most sought-after or have a significant patient base, indicating a strong reputation or effective medical practice.\n",
        "\n",
        "Resource Allocation: Understanding which doctors have the highest patient counts helps in resource allocation. Healthcare facilities can optimize scheduling, staffing, and other resources based on the popularity and demand for specific doctors.\n",
        "\n",
        "Referral Patterns: If certain doctors consistently appear in the top rankings, it may suggest strong referral patterns. Patients might be specifically seeking out these doctors based on recommendations or reputation."
      ],
      "metadata": {
        "id": "VECbqPI7phqN"
      }
    },
    {
      "cell_type": "markdown",
      "source": [
        "##### 3. Will the gained insights help creating a positive business impact?\n",
        "Are there any insights that lead to negative growth? Justify with specific reason."
      ],
      "metadata": {
        "id": "Seke61FWphqN"
      }
    },
    {
      "cell_type": "markdown",
      "source": [
        "Answer Here\n",
        "Positive Business Impact:\n",
        "\n",
        "Strategic Resource Allocation: Knowing which doctors have the highest patient counts allows for strategic resource allocation. Healthcare facilities can optimize scheduling, staffing, and other resources to meet the demand for popular doctors, potentially leading to increased operational efficiency.\n",
        "\n",
        "Targeted Marketing: Identifying high-performing doctors provides an opportunity for targeted marketing efforts. Healthcare facilities can promote these doctors to attract more patients and enhance their overall visibility in the community.\n",
        "\n",
        "Enhanced Patient Experience: Efficient practices and high patient counts may indicate positive patient experiences. Understanding what makes these doctors successful can inform strategies to enhance the overall patient experience across the organization.\n",
        "\n",
        "Potential Negative Impacts:\n",
        "\n",
        "Resource Imbalance: If resource allocation is solely based on patient counts, there is a risk of resource imbalance. Other doctors with lower patient counts may not receive sufficient support, leading to dissatisfaction or reduced efficiency in their practices.\n",
        "\n",
        "Quality of Care Concerns: Focusing solely on patient counts without considering the quality of care provided may lead to a potential negative impact. The emphasis should be on maintaining a balance between efficiency and ensuring high-quality healthcare services.\n",
        "\n",
        "Physician Burnout: Doctors with consistently high patient counts may face challenges related to burnout and fatigue. It's crucial to monitor and address the workload of these doctors to prevent negative consequences on their well-being and the quality of patient care."
      ],
      "metadata": {
        "id": "DW4_bGpfphqN"
      }
    },
    {
      "cell_type": "markdown",
      "source": [
        "#### Chart - 7"
      ],
      "metadata": {
        "id": "PIIx-8_IphqN"
      }
    },
    {
      "cell_type": "code",
      "source": [
        "#Insurance Provider distribution\n",
        "plt.figure(figsize=(10, 6))\n",
        "insurance_provider_counts = df['Insurance Provider'].value_counts().nlargest(10)\n",
        "insurance_provider_counts.plot(kind='barh', color='coral', edgecolor='black')\n",
        "plt.title(\"Top 10 Insurance Providers by Patient Count\")\n",
        "plt.xlabel(\"Count\")\n",
        "plt.ylabel(\"Insurance Provider\")\n",
        "\n",
        "# Add values over each bar\n",
        "for index, value in enumerate(insurance_provider_counts):\n",
        "    plt.text(value, index, str(value), ha='left', va='center', fontsize=10, color='black')\n",
        "\n",
        "plt.show()\n"
      ],
      "metadata": {
        "id": "lqAIGUfyphqO"
      },
      "execution_count": null,
      "outputs": []
    },
    {
      "cell_type": "markdown",
      "source": [
        "##### 1. Why did you pick the specific chart?"
      ],
      "metadata": {
        "id": "t27r6nlMphqO"
      }
    },
    {
      "cell_type": "markdown",
      "source": [
        "Answer Here. The specific chart chosen is a horizontal bar chart, and it was selected for the following reasons:\n",
        "\n",
        "Top-N Comparison: A horizontal bar chart is effective for comparing the counts of the top N insurance providers with the highest patient counts. It provides a clear visual representation of the most prominent insurance providers in terms of patient coverage.\n",
        "\n",
        "Space-Efficient: A horizontal bar chart is space-efficient when dealing with a limited number of categories (in this case, insurance providers). It allows for easy comparison of the top insurance providers without cluttering the visualization.\n",
        "\n",
        "Readability: Horizontal bar charts are often more readable when dealing with long category labels, such as insurance provider names. The horizontal orientation allows for better visibility and avoids crowding of labels.\n",
        "\n",
        "Emphasis on Top Performers: The choice of a horizontal bar chart emphasizes the ranking of the top insurance providers, making it immediately apparent which providers have the highest patient counts. This is particularly useful for identifying high-performing insurance partners."
      ],
      "metadata": {
        "id": "iv6ro40sphqO"
      }
    },
    {
      "cell_type": "markdown",
      "source": [
        "##### 2. What is/are the insight(s) found from the chart?"
      ],
      "metadata": {
        "id": "r2jJGEOYphqO"
      }
    },
    {
      "cell_type": "markdown",
      "source": [
        "Answer Here\n",
        "general insights that you might infer from analyzing the \"Top 10 Insurance Providers by Patient Count\" horizontal bar chart:\n",
        "\n",
        "Dominant Insurance Providers: Identify the insurance providers with the highest patient counts. These providers are likely to be the most widely accepted or utilized by patients within the healthcare facility.\n",
        "\n",
        "Market Share: The length of the bars in the chart provides a visual representation of the market share held by each of the top insurance providers. This insight can be valuable for understanding the distribution of patients among different insurers.\n",
        "\n",
        "Provider-Patient Relationships: Insurance providers with higher patient counts may have strong relationships with the healthcare facility. Understanding these relationships can be important for contract negotiations, billing processes, and overall partnership strategies.\n",
        "\n",
        "Billing and Reimbursement: Considerations related to billing and reimbursement can be derived from the chart. Providers with a higher patient count may have implications for the revenue cycle and financial health of the healthcare facility."
      ],
      "metadata": {
        "id": "Po6ZPi4hphqO"
      }
    },
    {
      "cell_type": "markdown",
      "source": [
        "##### 3. Will the gained insights help creating a positive business impact?\n",
        "Are there any insights that lead to negative growth? Justify with specific reason."
      ],
      "metadata": {
        "id": "b0JNsNcRphqO"
      }
    },
    {
      "cell_type": "markdown",
      "source": [
        "Answer Here\n",
        "Positive Business Impact:\n",
        "\n",
        "Strategic Partnerships: Understanding which insurance providers have higher patient counts allows for the development of strategic partnerships with these insurers. Strengthening relationships with dominant insurers can lead to a positive impact on patient referrals and revenue.\n",
        "\n",
        "Optimized Billing and Reimbursement: Insight into the insurance providers with higher patient counts enables healthcare facilities to optimize billing processes and streamline reimbursement. Efficient management of claims and reimbursements can positively impact financial health.\n",
        "\n",
        "Targeted Marketing: Knowledge of popular insurance providers can inform targeted marketing efforts. Healthcare facilities can tailor marketing strategies to attract more patients covered by these insurers, enhancing overall patient volume and revenue.\n",
        "\n",
        "Potential Challenges or Negative Considerations:\n",
        "\n",
        "Overdependence on Specific Insurers: If a healthcare facility becomes overly dependent on a small number of dominant insurance providers, there is a risk of vulnerability. Changes in contracts or relationships with these providers could have a significant impact on business stability.\n",
        "\n",
        "Limited Diversification: Relying heavily on a few insurers may limit the diversification of revenue streams. A sudden decrease in patient counts from a dominant insurer could lead to financial challenges.\n",
        "\n",
        "Contractual Restrictions: Dominant insurance providers may impose contractual restrictions or terms that impact the autonomy of healthcare facilities. Facilities should carefully review contracts to ensure they align with the organization's goals and values."
      ],
      "metadata": {
        "id": "xvSq8iUTphqO"
      }
    },
    {
      "cell_type": "markdown",
      "source": [
        "#### Chart - 8"
      ],
      "metadata": {
        "id": "BZR9WyysphqO"
      }
    },
    {
      "cell_type": "code",
      "source": [
        "# 2. Violin plot for Billing Amount distribution\n",
        "plt.figure(figsize=(10, 6))\n",
        "sns.violinplot(x='Billing Amount', data=df, palette='Set2')\n",
        "plt.title('Violin Plot of Billing Amount Distribution')\n",
        "plt.xlabel('Billing Amount')\n",
        "plt.ylabel('Range')\n",
        "plt.show()"
      ],
      "metadata": {
        "id": "TdPTWpAVphqO"
      },
      "execution_count": null,
      "outputs": []
    },
    {
      "cell_type": "markdown",
      "source": [
        "##### 1. Why did you pick the specific chart?"
      ],
      "metadata": {
        "id": "jj7wYXLtphqO"
      }
    },
    {
      "cell_type": "markdown",
      "source": [
        "Answer Here.\n",
        "The specific chart chosen is a Violin Plot for the distribution of billing amounts. Here's why this specific chart was selected:\n",
        "\n",
        "Distribution Insight: Violin plots provide a comprehensive view of the distribution of data. They include information about the median, quartiles, and the overall shape of the distribution, offering insights into the variability and central tendency of the billing amounts.\n",
        "\n",
        "Kernel Density Estimation (KDE): The width of the violin plot represents the kernel density estimation, giving a visual representation of the probability density of different billing amounts. This is useful for understanding the concentration of billing amounts at different levels.\n",
        "\n",
        "Outlier Detection: Violin plots often include information about the presence of outliers, which are data points that fall outside the expected range. Outliers in billing amounts may have important implications for financial analysis and resource planning."
      ],
      "metadata": {
        "id": "Ob8u6rCTphqO"
      }
    },
    {
      "cell_type": "markdown",
      "source": [
        "##### 2. What is/are the insight(s) found from the chart?"
      ],
      "metadata": {
        "id": "eZrbJ2SmphqO"
      }
    },
    {
      "cell_type": "markdown",
      "source": [
        "Answer Here\n",
        "general insights that you might infer from analyzing a Violin Plot of Billing Amount Distribution:\n",
        "\n",
        "Central Tendency: Examine the central tendency of the billing amounts, which is often represented by the thicker portion of the violin plot. The peak or bulge in the middle can provide insights into the typical or median billing amount.\n",
        "\n",
        "Spread of Billing Amounts: The width of the violin plot indicates the spread or variability in billing amounts. A wider section suggests greater variability, while a narrower section indicates a more consistent range of billing amounts.\n",
        "\n",
        "Skewness: Assess the symmetry of the violin plot. If one side is longer or more pronounced than the other, it suggests skewness in the distribution. Skewness can provide insights into whether billing amounts are concentrated toward higher or lower values."
      ],
      "metadata": {
        "id": "mZtgC_hjphqO"
      }
    },
    {
      "cell_type": "markdown",
      "source": [
        "##### 3. Will the gained insights help creating a positive business impact?\n",
        "Are there any insights that lead to negative growth? Justify with specific reason."
      ],
      "metadata": {
        "id": "rFu4xreNphqO"
      }
    },
    {
      "cell_type": "markdown",
      "source": [
        "Answer Here\n",
        "Positive Business Impact:\n",
        "\n",
        "Optimized Resource Allocation: Understanding the distribution of billing amounts allows healthcare facilities to optimize resource allocation. This includes efficient allocation of staff, equipment, and other resources based on the typical range of billing amounts.\n",
        "\n",
        "Pricing Strategy: Insights into the central tendency and variability of billing amounts can inform pricing strategies. Facilities can adjust pricing models to align with the median billing amounts and better cater to the financial expectations of patients.\n",
        "\n",
        "Considerations for Negative Growth:\n",
        "\n",
        "Financial Vulnerability: A wide spread or presence of outliers in billing amounts may indicate financial vulnerability. If a significant number of billing amounts are exceptionally high or low, it could pose challenges in financial stability and growth.\n",
        "\n",
        "Inequitable Pricing: If there is substantial variability in billing amounts without clear justification (e.g., variations unrelated to the type or complexity of services), it may lead to perceived inequities in pricing. This can result in negative patient experiences and impact the reputation of the healthcare facility.\n",
        "\n",
        "Patient Dissatisfaction: If the distribution reveals a concentration of billing amounts toward higher values without corresponding value or quality of service, it may lead to patient dissatisfaction. Negative patient experiences can impact customer retention and the facility's reputation."
      ],
      "metadata": {
        "id": "ey_0qi68phqO"
      }
    },
    {
      "cell_type": "markdown",
      "source": [
        "#### Chart - 9"
      ],
      "metadata": {
        "id": "YJ55k-q6phqO"
      }
    },
    {
      "cell_type": "code",
      "source": [
        "# Discharge Date trends\n",
        "plt.figure(figsize=(12, 6))\n",
        "df['Discharge Date'] = pd.to_datetime(df['Discharge Date'])\n",
        "df.set_index('Discharge Date').resample('M').size().plot(label='Monthly Discharges', color='darkgreen')\n",
        "plt.title('Monthly Discharges Trend')\n",
        "plt.xlabel('Discharge Date')\n",
        "plt.ylabel('Count')\n",
        "plt.legend()\n",
        "plt.show()"
      ],
      "metadata": {
        "id": "B2aS4O1ophqO"
      },
      "execution_count": null,
      "outputs": []
    },
    {
      "cell_type": "markdown",
      "source": [
        "##### 1. Why did you pick the specific chart?"
      ],
      "metadata": {
        "id": "gCFgpxoyphqP"
      }
    },
    {
      "cell_type": "markdown",
      "source": [
        "Answer Here.\n",
        "Temporal Trends: The chart captures trends over time, specifically the monthly discharge trend. Time series plots are suitable for visualizing how a variable changes over different time intervals, in this case, months.\n",
        "\n",
        "Granularity: Monthly granularity provides a balance between capturing meaningful trends and avoiding excessive detail. It's a common and practical time interval for assessing trends in various datasets.\n",
        "\n",
        "Seasonal Patterns: Time series plots are effective for identifying seasonal patterns or recurring trends. Patterns in monthly discharges may reveal seasonality or cyclicality in patient discharges."
      ],
      "metadata": {
        "id": "TVxDimi2phqP"
      }
    },
    {
      "cell_type": "markdown",
      "source": [
        "##### 2. What is/are the insight(s) found from the chart?"
      ],
      "metadata": {
        "id": "OVtJsKN_phqQ"
      }
    },
    {
      "cell_type": "markdown",
      "source": [
        "Answer Here\n",
        "general insights that you might infer from analyzing the \"Monthly Discharges Trend\" time series plot:\n",
        "\n",
        "Seasonal Patterns: Check for any repeating patterns or seasonality in the monthly discharges. If there are consistent peaks or troughs at certain times of the year, it could indicate seasonal variations in patient discharges.\n",
        "\n",
        "Overall Trend: Assess the overall trend in monthly discharges over the specified time period. A rising trend may suggest an increase in patient discharges over time, while a declining trend may indicate a decrease.\n",
        "\n",
        "Anomalies or Outliers: Look for any abrupt spikes or drops in the plot. These anomalies may correspond to specific events, such as a surge in admissions or a change in healthcare policies, and warrant further investigation."
      ],
      "metadata": {
        "id": "ngGi97qjphqQ"
      }
    },
    {
      "cell_type": "markdown",
      "source": [
        "##### 3. Will the gained insights help creating a positive business impact?\n",
        "Are there any insights that lead to negative growth? Justify with specific reason."
      ],
      "metadata": {
        "id": "lssrdh5qphqQ"
      }
    },
    {
      "cell_type": "markdown",
      "source": [
        "Answer Here\n",
        "Positive Business Impact:\n",
        "\n",
        "Operational Efficiency: Understanding monthly discharge trends allows healthcare facilities to optimize operational efficiency. Facilities can adjust staffing levels, resource allocation, and bed availability based on anticipated discharge patterns, leading to improved efficiency.\n",
        "\n",
        "Resource Planning: Insights into discharge trends aid in resource planning. Facilities can align resources such as medical staff, equipment, and support services with the expected demand, reducing the risk of underutilization or overload.\n",
        "\n",
        "Financial Planning: Monitoring discharge trends over time supports effective financial planning. Facilities can project revenue, manage budgets, and identify opportunities for growth or cost optimization based on historical discharge data.\n",
        "\n",
        "Considerations for Negative Growth:\n",
        "\n",
        "Unexpected Dips in Discharges: Sudden and sustained dips in discharge trends may raise concerns. Negative growth in discharges could impact financial sustainability, especially if the facility is dependent on a certain level of patient throughput for revenue.\n",
        "\n",
        "Overestimation of Resources: If there is a consistent overestimation of discharge trends, it may lead to an overallocation of resources, including staffing and facilities. This inefficiency could result in increased costs and reduced profitability."
      ],
      "metadata": {
        "id": "tBpY5ekJphqQ"
      }
    },
    {
      "cell_type": "markdown",
      "source": [
        "#### Chart - 10"
      ],
      "metadata": {
        "id": "U2RJ9gkRphqQ"
      }
    },
    {
      "cell_type": "code",
      "source": [
        "# 13. Medication distribution\n",
        "plt.figure(figsize=(12, 8))\n",
        "medication_counts = df['Medication'].value_counts().nlargest(10)\n",
        "medication_counts.plot(kind='barh', color='darkorange', edgecolor='black')\n",
        "plt.title(\"Top 10 Medications by Prescription Count\")\n",
        "plt.xlabel(\"Count\")\n",
        "plt.ylabel(\"Medication\")\n",
        "\n",
        "# Add values over each bar\n",
        "for index, value in enumerate(medication_counts):\n",
        "    plt.text(value, index, str(value), ha='left', va='center', fontsize=10, color='black')\n",
        "\n",
        "plt.show()\n"
      ],
      "metadata": {
        "id": "GM7a4YP4phqQ"
      },
      "execution_count": null,
      "outputs": []
    },
    {
      "cell_type": "markdown",
      "source": [
        "##### 1. Why did you pick the specific chart?"
      ],
      "metadata": {
        "id": "1M8mcRywphqQ"
      }
    },
    {
      "cell_type": "markdown",
      "source": [
        "Answer Here.\n",
        "The specific chart chosen is a horizontal bar chart depicting the \"Top 10 Medications by Prescription Count.\" Here's why this specific chart was selected:\n",
        "\n",
        "Top-N Comparison: A horizontal bar chart is effective for comparing the counts of the top N medications with the highest prescription counts. It provides a clear visual representation of the most frequently prescribed medications.\n",
        "\n",
        "Space-Efficient: A horizontal orientation is space-efficient when dealing with a limited number of categories (medications in this case). It allows for easy comparison of the top medications without cluttering the visualization.\n",
        "\n",
        "Readability: Horizontal bar charts are often more readable when dealing with long category labels, such as medication names. The horizontal orientation allows for better visibility and avoids crowding of labels."
      ],
      "metadata": {
        "id": "8agQvks0phqQ"
      }
    },
    {
      "cell_type": "markdown",
      "source": [
        "##### 2. What is/are the insight(s) found from the chart?"
      ],
      "metadata": {
        "id": "tgIPom80phqQ"
      }
    },
    {
      "cell_type": "markdown",
      "source": [
        "Answer Here\n",
        "general insights that you might infer from analyzing the \"Top 10 Medications by Prescription Count\" horizontal bar chart:\n",
        "\n",
        "Most Prescribed Medications: Identify the medications with the highest prescription counts. These medications are likely to be commonly used and play a significant role in patient care within the dataset.\n",
        "\n",
        "Prescription Popularity: The length of the bars in the chart provides a visual representation of the popularity of each medication in terms of prescription counts. Longer bars indicate higher prescription frequencies.\n",
        "\n",
        "Clinical Preferences: The medications featured in the top positions may reflect clinical preferences, standard treatment protocols, or guidelines within the healthcare facility or dataset."
      ],
      "metadata": {
        "id": "Qp13pnNzphqQ"
      }
    },
    {
      "cell_type": "markdown",
      "source": [
        "##### 3. Will the gained insights help creating a positive business impact?\n",
        "Are there any insights that lead to negative growth? Justify with specific reason."
      ],
      "metadata": {
        "id": "JMzcOPDDphqR"
      }
    },
    {
      "cell_type": "markdown",
      "source": [
        "Answer Here\n",
        "Positive Business Impact:\n",
        "\n",
        "Efficient Supply Chain Management: Understanding the most prescribed medications allows for efficient supply chain management. Facilities can ensure an adequate stock of these medications, reducing the risk of shortages and ensuring a smooth workflow.\n",
        "\n",
        "Cost Optimization: Knowledge of frequently prescribed medications presents opportunities for cost optimization. Negotiating favorable pricing, exploring bulk purchasing options, or considering generic alternatives can contribute to financial efficiency.\n",
        "\n",
        "Quality of Care: Identifying commonly prescribed medications reflects their importance in patient care. Ensuring a consistent and reliable supply of these medications supports the quality of care provided by the healthcare facility.\n",
        "\n",
        "Considerations for Negative Growth:\n",
        "\n",
        "Dependency on a Few Medications: Overreliance on a small number of frequently prescribed medications may pose risks. Changes in availability, pricing, or guidelines for these medications could impact the facility's ability to provide certain treatments.\n",
        "\n",
        "Cost Burden: If the most prescribed medications are high-cost, there may be a financial burden on the facility, particularly if these medications are not adequately reimbursed. This can affect overall financial health and sustainability.\n",
        "\n",
        "Supply Chain Vulnerability: A concentration on a limited set of medications increases the vulnerability of the supply chain. Any disruptions, such as shortages or supply chain issues for these medications, could negatively impact patient care."
      ],
      "metadata": {
        "id": "R4Ka1PC2phqR"
      }
    },
    {
      "cell_type": "markdown",
      "source": [
        "#### Chart - 11"
      ],
      "metadata": {
        "id": "x-EpHcCOp1ci"
      }
    },
    {
      "cell_type": "code",
      "source": [
        "# Chart - 11 Blood Type Distribution\n",
        "plt.figure(figsize=(10, 6))\n",
        "blood_type_counts = df['Blood Type'].value_counts()\n",
        "sns.countplot(x='Blood Type', data=df, palette=\"Set2\")\n",
        "\n",
        "plt.title('Blood Type Distribution')\n",
        "plt.xlabel('Blood Type')\n",
        "plt.ylabel('Count')\n",
        "\n",
        "# Add values over each bar\n",
        "for index, value in enumerate(blood_type_counts):\n",
        "    plt.text(index, value, str(value), ha='center', va='bottom', fontsize=10, color='black')\n",
        "\n",
        "plt.show()\n"
      ],
      "metadata": {
        "id": "mAQTIvtqp1cj"
      },
      "execution_count": null,
      "outputs": []
    },
    {
      "cell_type": "markdown",
      "source": [
        "##### 1. Why did you pick the specific chart?"
      ],
      "metadata": {
        "id": "X_VqEhTip1ck"
      }
    },
    {
      "cell_type": "markdown",
      "source": [
        "Answer Here.\n",
        "The specific chart chosen is a count plot depicting the distribution of blood types. Here's why this specific chart was selected:\n",
        "\n",
        "Categorical Distribution: A count plot is suitable for visualizing the distribution of categorical data, such as blood types. It provides a quick and clear overview of the frequency of each category.\n",
        "\n",
        "Frequency Comparison: The vertical bars in a count plot represent the frequency of each blood type, making it easy to compare the number of occurrences for different blood types within the dataset.\n",
        "\n",
        "Readability: Count plots are straightforward and easy to interpret. They are particularly effective when dealing with a small number of categories (blood types in this case), allowing for clear visualization without excessive detail."
      ],
      "metadata": {
        "id": "-vsMzt_np1ck"
      }
    },
    {
      "cell_type": "markdown",
      "source": [
        "##### 2. What is/are the insight(s) found from the chart?"
      ],
      "metadata": {
        "id": "8zGJKyg5p1ck"
      }
    },
    {
      "cell_type": "markdown",
      "source": [
        "Answer Here\n",
        "Prevalence of Blood Types: Identify the most and least prevalent blood types based on the height of the bars. This provides a quick overview of the distribution of blood types within the dataset.\n",
        "\n",
        "Common Blood Types: If there are prominent peaks in the count plot, these represent the blood types that are most commonly found in the dataset. This information can be useful for healthcare planning and understanding the demographics of the population."
      ],
      "metadata": {
        "id": "ZYdMsrqVp1ck"
      }
    },
    {
      "cell_type": "markdown",
      "source": [
        "##### 3. Will the gained insights help creating a positive business impact?\n",
        "Are there any insights that lead to negative growth? Justify with specific reason."
      ],
      "metadata": {
        "id": "PVzmfK_Ep1ck"
      }
    },
    {
      "cell_type": "markdown",
      "source": [
        "Answer Here\n",
        "Potential Positive Impact:\n",
        "\n",
        "Tailored Healthcare Services: Understanding the distribution of blood types allows healthcare providers to tailor their services to the specific needs of the population. For example, it can inform blood donation campaigns, organ transplantation planning, and other medical services.\n",
        "\n",
        "Efficient Blood Inventory Management: For healthcare facilities involved in blood transfusions, knowledge of prevalent blood types helps in maintaining an efficient and well-balanced blood inventory. This can contribute to improved patient care and satisfaction.\n",
        "\n",
        "Enhanced Emergency Preparedness: In emergency situations, having insights into the prevalence of different blood types can enhance emergency preparedness. It aids in ensuring an adequate supply of compatible blood for transfusions during critical situations.\n",
        "\n",
        "Considerations for Negative Growth:\n",
        "\n",
        "Imbalances in Blood Supply: If there are significant imbalances in the distribution of blood types, it may lead to challenges in maintaining a well-balanced blood supply. Shortages or surpluses of certain blood types could affect patient care and may lead to negative growth in service quality.\n",
        "\n",
        "Challenges in Organ Transplantation: A skewed distribution may pose challenges in organ transplantation, especially if there is a shortage of donors with specific blood types. This could impact the success rates of transplantation procedures."
      ],
      "metadata": {
        "id": "druuKYZpp1ck"
      }
    },
    {
      "cell_type": "markdown",
      "source": [
        "#### Chart - 12"
      ],
      "metadata": {
        "id": "n3dbpmDWp1ck"
      }
    },
    {
      "cell_type": "code",
      "source": [
        "#Test Results distribution\n",
        "plt.figure(figsize=(12, 6))\n",
        "sns.boxplot(x=df['Test Results'], color='lightblue')\n",
        "plt.title('Distribution of Test Results')\n",
        "plt.xlabel('Test Results')\n",
        "plt.show()"
      ],
      "metadata": {
        "id": "bwevp1tKp1ck"
      },
      "execution_count": null,
      "outputs": []
    },
    {
      "cell_type": "markdown",
      "source": [
        "##### 1. Why did you pick the specific chart?"
      ],
      "metadata": {
        "id": "ylSl6qgtp1ck"
      }
    },
    {
      "cell_type": "markdown",
      "source": [
        "Answer Here.\n",
        "Statistical Summary: Boxplots provide a concise summary of the statistical distribution of a continuous variable, including measures such as the median, quartiles, and potential outliers. This is valuable for understanding the central tendency and spread of test results.\n",
        "\n",
        "Identification of Central Tendency: The central box in the plot represents the interquartile range (IQR) and the median, offering insights into the central tendency of the test results distribution. This aids in identifying the typical or median value of the test results.\n",
        "\n",
        "Spread of Data: The length of the box and the whiskers indicate the spread or variability of the test results. This helps in assessing how widely the test results vary from the median and provides a sense of the overall distribution."
      ],
      "metadata": {
        "id": "m2xqNkiQp1ck"
      }
    },
    {
      "cell_type": "markdown",
      "source": [
        "##### 2. What is/are the insight(s) found from the chart?"
      ],
      "metadata": {
        "id": "ZWILFDl5p1ck"
      }
    },
    {
      "cell_type": "markdown",
      "source": [
        "Answer Here\n",
        "Central Tendency: Identify the median value (center of the box). This represents the middle value of the test results distribution. The position of the median can provide insight into the typical or central value of the test results.\n",
        "\n",
        "Spread of Test Results: Examine the length of the box and the whiskers. A longer box or whiskers indicate a greater spread or variability in the test results. This information helps in understanding the range of values observed in the dataset.\n",
        "\n",
        "Skewness: Assess the symmetry of the boxplot. If the box is evenly distributed, the data may be symmetrical. If one side of the box is longer than the other, it suggests skewness in the test results distribution."
      ],
      "metadata": {
        "id": "x-lUsV2mp1ck"
      }
    },
    {
      "cell_type": "markdown",
      "source": [
        "##### 3. Will the gained insights help creating a positive business impact?\n",
        "Are there any insights that lead to negative growth? Justify with specific reason."
      ],
      "metadata": {
        "id": "M7G43BXep1ck"
      }
    },
    {
      "cell_type": "markdown",
      "source": [
        "Answer Here\n",
        "Potential Positive Impact:\n",
        "\n",
        "Identification of Normal Range: Understanding the central tendency and spread of test results helps define a normal or typical range. This information is crucial for healthcare professionals to establish benchmarks for healthy individuals and identify deviations from normal values.\n",
        "\n",
        "Detection of Outliers: The identification of potential outliers in the test results can be valuable for healthcare providers. Outliers may indicate rare conditions, unusual responses to treatment, or errors in testing. Early detection and investigation of outliers contribute to improved patient care.\n",
        "\n",
        "Considerations for Negative Impact:\n",
        "\n",
        "Concerns with Outliers: While outliers can be informative, extreme values may lead to unnecessary investigations or interventions if not properly understood. Misinterpretation of outliers could result in additional costs and potential negative impacts on patient well-being.\n",
        "\n",
        "Data Quality Issues: Skewed or unusual distributions may indicate underlying data quality issues, such as errors in measurement, sample contamination, or systematic biases. Addressing these issues is crucial to maintaining the integrity of healthcare data."
      ],
      "metadata": {
        "id": "5wwDJXsLp1cl"
      }
    },
    {
      "cell_type": "markdown",
      "source": [
        "#### Chart - 13"
      ],
      "metadata": {
        "id": "Ag9LCva-p1cl"
      }
    },
    {
      "cell_type": "code",
      "source": [
        "# Chart - 13 visualization code\n",
        "# Room number distribution\n",
        "plt.figure(figsize=(12, 8))\n",
        "sns.boxplot(x='Room Number', data=df, palette='coolwarm')\n",
        "plt.title('Box Plot of Room Number Distribution')\n",
        "plt.xlabel('Room Number')\n",
        "plt.show()"
      ],
      "metadata": {
        "id": "EUfxeq9-p1cl"
      },
      "execution_count": null,
      "outputs": []
    },
    {
      "cell_type": "markdown",
      "source": [
        "##### 1. Why did you pick the specific chart?"
      ],
      "metadata": {
        "id": "E6MkPsBcp1cl"
      }
    },
    {
      "cell_type": "markdown",
      "source": [
        "Answer Here.\n",
        "Variability Across Room Numbers: The length of the box and the whiskers illustrate the variability or spread of room numbers. A longer box or whiskers indicate greater variability, providing information about the range of room numbers within the dataset.\n",
        "\n",
        "Outlier Detection: Box plots effectively highlight potential outliers, which are represented as individual points beyond the whiskers. Identifying outliers in room numbers may be valuable for addressing any anomalies or errors in the dataset.\n",
        "\n",
        "Comparison Across Categories: If room numbers are categorized or have specific characteristics, a box plot allows for easy visual comparison of the distribution across these categories. It aids in understanding how room numbers vary based on different factors."
      ],
      "metadata": {
        "id": "V22bRsFWp1cl"
      }
    },
    {
      "cell_type": "markdown",
      "source": [
        "##### 2. What is/are the insight(s) found from the chart?"
      ],
      "metadata": {
        "id": "2cELzS2fp1cl"
      }
    },
    {
      "cell_type": "markdown",
      "source": [
        "Answer Here\n",
        "Central Tendency: Identify the median room number, which is represented by the line inside the box. This gives an indication of the central or typical room number in the dataset.\n",
        "\n",
        "Spread of Room Numbers: Evaluate the length of the box and the whiskers. A longer box or whiskers indicate a greater spread or variability in room numbers. Understanding this spread is crucial for assessing the range of available room numbers.\n",
        "\n",
        "Outlier Detection: Look for individual points beyond the whiskers. These points represent potential outliers—room numbers that deviate significantly from the majority. Investigate any outliers for potential data anomalies or specific room characteristics.\n",
        "\n",
        "Skewness: Assess the symmetry of the box. If the box is evenly distributed, it suggests a more symmetrical distribution of room numbers. Asymmetry in the box may indicate skewness in the data."
      ],
      "metadata": {
        "id": "ozQPc2_Ip1cl"
      }
    },
    {
      "cell_type": "markdown",
      "source": [
        "##### 3. Will the gained insights help creating a positive business impact?\n",
        "Are there any insights that lead to negative growth? Justify with specific reason."
      ],
      "metadata": {
        "id": "3MPXvC8up1cl"
      }
    },
    {
      "cell_type": "markdown",
      "source": [
        "Answer Here\n",
        "Potential Positive Impact:\n",
        "\n",
        "Efficient Resource Allocation: Understanding the distribution of room numbers helps in efficiently allocating resources within a healthcare facility. It allows for better management of available rooms, ensuring optimal utilization based on demand.\n",
        "\n",
        "Improved Patient Experience: Knowledge of the variability in room numbers can contribute to a more tailored patient experience. Facilities can better match room assignments to patient needs, preferences, or medical requirements, enhancing overall satisfaction.\n",
        "\n",
        "Enhanced Facility Planning: Insights into the central tendency and spread of room numbers aid in facility planning. Facilities can plan expansions or renovations based on the distribution, addressing any limitations or accommodating specific room requirements.\n",
        "\n",
        "\n",
        "The insights gained from the analysis of the \"Box Plot of Room Number Distribution\" can potentially contribute to positive business impact in healthcare operations. However, there are considerations that, if not addressed properly, could lead to challenges. Let's explore both aspects:\n",
        "\n",
        "Potential Positive Impact:\n",
        "\n",
        "Efficient Resource Allocation: Understanding the distribution of room numbers helps in efficiently allocating resources within a healthcare facility. It allows for better management of available rooms, ensuring optimal utilization based on demand.\n",
        "\n",
        "Improved Patient Experience: Knowledge of the variability in room numbers can contribute to a more tailored patient experience. Facilities can better match room assignments to patient needs, preferences, or medical requirements, enhancing overall satisfaction.\n",
        "\n",
        "Enhanced Facility Planning: Insights into the central tendency and spread of room numbers aid in facility planning. Facilities can plan expansions or renovations based on the distribution, addressing any limitations or accommodating specific room requirements.\n",
        "\n",
        "Optimized Workflow: Understanding the distribution helps in optimizing operational workflows. It enables facilities to streamline processes related to room assignments, patient transfers, and overall logistical management.\n",
        "\n",
        "Identification of Specialized Rooms: If room numbers are categorized, the analysis can reveal the distribution of specialized rooms (e.g., intensive care units, operating rooms). This information is crucial for planning and ensuring adequate resources for specialized care.\n",
        "\n",
        "Considerations for Negative Impact:\n",
        "\n",
        "Resource Imbalances: If the distribution of room numbers indicates imbalances, such as a shortage of specific room types or overcrowding in certain areas, it may lead to operational challenges and negatively impact patient care.\n",
        "\n",
        "Patient Satisfaction Issues: Inconsistencies in room assignment or a skewed distribution may lead to disparities in patient experiences. Patients may perceive inequalities in the quality of rooms, potentially affecting overall satisfaction.\n",
        "\n",
        "Operational Inefficiencies: Failure to address issues revealed by the distribution, such as outliers or skewed patterns, can result in operational inefficiencies. For example, difficulties in managing outlier room numbers may lead to increased workload for staff."
      ],
      "metadata": {
        "id": "GL8l1tdLp1cl"
      }
    },
    {
      "cell_type": "markdown",
      "source": [
        "#### Chart - 14 - Correlation Heatmap"
      ],
      "metadata": {
        "id": "NC_X3p0fY2L0"
      }
    },
    {
      "cell_type": "code",
      "source": [
        "# Correlation Heatmap visualization code\n",
        "plt.figure(figsize=(12, 10))\n",
        "sns.heatmap(df.corr(), annot=True, cmap='coolwarm', fmt=\".2f\")\n",
        "plt.title('Correlation Matrix Heatmap')\n",
        "plt.show()"
      ],
      "metadata": {
        "id": "xyC9zolEZNRQ"
      },
      "execution_count": null,
      "outputs": []
    },
    {
      "cell_type": "markdown",
      "source": [
        "##### 1. Why did you pick the specific chart?"
      ],
      "metadata": {
        "id": "UV0SzAkaZNRQ"
      }
    },
    {
      "cell_type": "markdown",
      "source": [
        "Answer Here.\n",
        "Multivariate Analysis: A heatmap of the correlation matrix is particularly useful for multivariate analysis. It allows for the simultaneous examination of relationships between multiple variables in a compact and visually accessible format.\n",
        "\n",
        "Correlation Visualization: The heatmap color-codes the correlation coefficients, making it easy to identify the strength and direction of relationships between pairs of variables. This is valuable for understanding how variables co-vary.\n",
        "\n",
        "Comprehensive Overview: The heatmap provides a comprehensive overview of the entire correlation matrix. Each cell represents the correlation coefficient between two variables, allowing for quick identification of patterns and associations."
      ],
      "metadata": {
        "id": "DVPuT8LYZNRQ"
      }
    },
    {
      "cell_type": "markdown",
      "source": [
        "##### 2. What is/are the insight(s) found from the chart?"
      ],
      "metadata": {
        "id": "YPEH6qLeZNRQ"
      }
    },
    {
      "cell_type": "markdown",
      "source": [
        "Answer Here\n",
        "Strength and Direction of Correlations: The color-coded cells in the heatmap show the strength and direction of correlations between pairs of variables. Dark colors (positive or negative) indicate stronger correlations, while lighter colors suggest weaker or negligible correlations.\n",
        "\n",
        "Identifying Positive and Negative Correlations: Focus on the signs of the correlation coefficients. Positive correlations are represented by dark colors, while negative correlations are represented by light colors. This helps identify variables that move together or in opposite directions.\n",
        "\n",
        "Clusters of Correlated Variables: Look for clusters of dark or light cells, indicating groups of variables that are closely related or unrelated. Identifying these clusters can reveal underlying patterns or relationships within the dataset."
      ],
      "metadata": {
        "id": "bfSqtnDqZNRR"
      }
    },
    {
      "cell_type": "markdown",
      "source": [
        "#### Chart - 15 - Pair Plot"
      ],
      "metadata": {
        "id": "q29F0dvdveiT"
      }
    },
    {
      "cell_type": "code",
      "source": [
        "import seaborn as sns\n",
        "import matplotlib.pyplot as plt\n",
        "\n",
        "# Assuming 'df' is your DataFrame and you want to include specific numerical columns\n",
        "numerical_columns = ['Age', 'Billing Amount', 'Room Number', 'Test Results']\n",
        "\n",
        "# Set style and palette\n",
        "sns.set(style=\"whitegrid\", palette=\"viridis\")\n",
        "\n",
        "# Create pair plot\n",
        "sns.pairplot(df[numerical_columns], hue=None)\n",
        "plt.suptitle(\"Pair Plot of Selected Numerical Columns\", y=1.02)\n",
        "plt.show()\n"
      ],
      "metadata": {
        "id": "o58-TEIhveiU"
      },
      "execution_count": null,
      "outputs": []
    },
    {
      "cell_type": "markdown",
      "source": [
        "##### 1. Why did you pick the specific chart?"
      ],
      "metadata": {
        "id": "EXh0U9oCveiU"
      }
    },
    {
      "cell_type": "markdown",
      "source": [
        "Answer Here.\n",
        "Multivariate Analysis: A pair plot is a powerful tool for multivariate analysis, allowing you to examine relationships between multiple numerical variables simultaneously. Each scatter plot in the pair plot represents the relationship between two variables.\n",
        "\n",
        "Visualizing Relationships: Pair plots visualize the relationships between all possible pairs of numerical columns in a concise and systematic manner. This is valuable for exploring patterns, trends, and potential correlations in the data.\n",
        "\n",
        "Identification of Trends and Outliers: The scatter plots in the pair plot allow for the identification of trends and patterns in the relationships between variables. Additionally, outliers or unusual data points can be visually identified."
      ],
      "metadata": {
        "id": "eMmPjTByveiU"
      }
    },
    {
      "cell_type": "markdown",
      "source": [
        "##### 2. What is/are the insight(s) found from the chart?"
      ],
      "metadata": {
        "id": "22aHeOlLveiV"
      }
    },
    {
      "cell_type": "markdown",
      "source": [
        "Answer Here\n",
        "general insights that you might infer from analyzing a pair plot of selected numerical columns:\n",
        "\n",
        "Correlation Patterns: Check for patterns in the scatter plots. If points generally follow a trend, it suggests a correlation between the two variables. For example, a positive correlation would result in points sloping upwards.\n",
        "\n",
        "Strength of Relationships: The tightness and direction of the scatter plot patterns indicate the strength and nature of relationships between pairs of variables. Closer and more defined patterns suggest stronger relationships.\n",
        "\n",
        "Identifying Outliers: Look for individual data points that stand out from the general pattern in the scatter plots. Outliers may indicate unusual observations or errors in the data that warrant further investigation."
      ],
      "metadata": {
        "id": "uPQ8RGwHveiV"
      }
    },
    {
      "cell_type": "markdown",
      "source": [
        "## ***5. Hypothesis Testing***"
      ],
      "metadata": {
        "id": "g-ATYxFrGrvw"
      }
    },
    {
      "cell_type": "markdown",
      "source": [
        "### Based on your chart experiments, define three hypothetical statements from the dataset. In the next three questions, perform hypothesis testing to obtain final conclusion about the statements through your code and statistical testing."
      ],
      "metadata": {
        "id": "Yfr_Vlr8HBkt"
      }
    },
    {
      "cell_type": "markdown",
      "source": [
        "Answer Here."
      ],
      "metadata": {
        "id": "-7MS06SUHkB-"
      }
    },
    {
      "cell_type": "markdown",
      "source": [
        "### Hypothetical Statement - 1"
      ],
      "metadata": {
        "id": "8yEUt7NnHlrM"
      }
    },
    {
      "cell_type": "markdown",
      "source": [
        "#### 1. State Your research hypothesis as a null hypothesis and alternate hypothesis."
      ],
      "metadata": {
        "id": "tEA2Xm5dHt1r"
      }
    },
    {
      "cell_type": "markdown",
      "source": [
        "Answer Here."
      ],
      "metadata": {
        "id": "HI9ZP0laH0D-"
      }
    },
    {
      "cell_type": "markdown",
      "source": [
        "#### 2. Perform an appropriate statistical test."
      ],
      "metadata": {
        "id": "I79__PHVH19G"
      }
    },
    {
      "cell_type": "code",
      "source": [
        "# Perform Statistical Test to obtain P-Value"
      ],
      "metadata": {
        "id": "oZrfquKtyian"
      },
      "execution_count": null,
      "outputs": []
    },
    {
      "cell_type": "markdown",
      "source": [
        "##### Which statistical test have you done to obtain P-Value?"
      ],
      "metadata": {
        "id": "Ou-I18pAyIpj"
      }
    },
    {
      "cell_type": "markdown",
      "source": [
        "Answer Here."
      ],
      "metadata": {
        "id": "s2U0kk00ygSB"
      }
    },
    {
      "cell_type": "markdown",
      "source": [
        "##### Why did you choose the specific statistical test?"
      ],
      "metadata": {
        "id": "fF3858GYyt-u"
      }
    },
    {
      "cell_type": "markdown",
      "source": [
        "Answer Here."
      ],
      "metadata": {
        "id": "HO4K0gP5y3B4"
      }
    },
    {
      "cell_type": "markdown",
      "source": [
        "### Hypothetical Statement - 2"
      ],
      "metadata": {
        "id": "4_0_7-oCpUZd"
      }
    },
    {
      "cell_type": "markdown",
      "source": [
        "#### 1. State Your research hypothesis as a null hypothesis and alternate hypothesis."
      ],
      "metadata": {
        "id": "hwyV_J3ipUZe"
      }
    },
    {
      "cell_type": "markdown",
      "source": [
        "Answer Here."
      ],
      "metadata": {
        "id": "FnpLGJ-4pUZe"
      }
    },
    {
      "cell_type": "markdown",
      "source": [
        "#### 2. Perform an appropriate statistical test."
      ],
      "metadata": {
        "id": "3yB-zSqbpUZe"
      }
    },
    {
      "cell_type": "code",
      "source": [
        "# Perform Statistical Test to obtain P-Value"
      ],
      "metadata": {
        "id": "sWxdNTXNpUZe"
      },
      "execution_count": null,
      "outputs": []
    },
    {
      "cell_type": "markdown",
      "source": [
        "##### Which statistical test have you done to obtain P-Value?"
      ],
      "metadata": {
        "id": "dEUvejAfpUZe"
      }
    },
    {
      "cell_type": "markdown",
      "source": [
        "Answer Here."
      ],
      "metadata": {
        "id": "oLDrPz7HpUZf"
      }
    },
    {
      "cell_type": "markdown",
      "source": [
        "##### Why did you choose the specific statistical test?"
      ],
      "metadata": {
        "id": "Fd15vwWVpUZf"
      }
    },
    {
      "cell_type": "markdown",
      "source": [
        "Answer Here."
      ],
      "metadata": {
        "id": "4xOGYyiBpUZf"
      }
    },
    {
      "cell_type": "markdown",
      "source": [
        "### Hypothetical Statement - 3"
      ],
      "metadata": {
        "id": "bn_IUdTipZyH"
      }
    },
    {
      "cell_type": "markdown",
      "source": [
        "#### 1. State Your research hypothesis as a null hypothesis and alternate hypothesis."
      ],
      "metadata": {
        "id": "49K5P_iCpZyH"
      }
    },
    {
      "cell_type": "markdown",
      "source": [
        "Answer Here."
      ],
      "metadata": {
        "id": "7gWI5rT9pZyH"
      }
    },
    {
      "cell_type": "markdown",
      "source": [
        "#### 2. Perform an appropriate statistical test."
      ],
      "metadata": {
        "id": "Nff-vKELpZyI"
      }
    },
    {
      "cell_type": "code",
      "source": [
        "# Perform Statistical Test to obtain P-Value"
      ],
      "metadata": {
        "id": "s6AnJQjtpZyI"
      },
      "execution_count": null,
      "outputs": []
    },
    {
      "cell_type": "markdown",
      "source": [
        "##### Which statistical test have you done to obtain P-Value?"
      ],
      "metadata": {
        "id": "kLW572S8pZyI"
      }
    },
    {
      "cell_type": "markdown",
      "source": [
        "Answer Here."
      ],
      "metadata": {
        "id": "ytWJ8v15pZyI"
      }
    },
    {
      "cell_type": "markdown",
      "source": [
        "##### Why did you choose the specific statistical test?"
      ],
      "metadata": {
        "id": "dWbDXHzopZyI"
      }
    },
    {
      "cell_type": "markdown",
      "source": [
        "Answer Here."
      ],
      "metadata": {
        "id": "M99G98V6pZyI"
      }
    },
    {
      "cell_type": "markdown",
      "source": [
        "## ***6. Feature Engineering & Data Pre-processing***"
      ],
      "metadata": {
        "id": "yLjJCtPM0KBk"
      }
    },
    {
      "cell_type": "markdown",
      "source": [
        "### 1. Handling Missing Values"
      ],
      "metadata": {
        "id": "xiyOF9F70UgQ"
      }
    },
    {
      "cell_type": "code",
      "source": [
        "# Handling Missing Values & Missing Value Imputation"
      ],
      "metadata": {
        "id": "iRsAHk1K0fpS"
      },
      "execution_count": null,
      "outputs": []
    },
    {
      "cell_type": "markdown",
      "source": [
        "#### What all missing value imputation techniques have you used and why did you use those techniques?"
      ],
      "metadata": {
        "id": "7wuGOrhz0itI"
      }
    },
    {
      "cell_type": "markdown",
      "source": [
        "Answer Here."
      ],
      "metadata": {
        "id": "1ixusLtI0pqI"
      }
    },
    {
      "cell_type": "markdown",
      "source": [
        "### 2. Handling Outliers"
      ],
      "metadata": {
        "id": "id1riN9m0vUs"
      }
    },
    {
      "cell_type": "code",
      "source": [
        "# Handling Outliers & Outlier treatments"
      ],
      "metadata": {
        "id": "M6w2CzZf04JK"
      },
      "execution_count": null,
      "outputs": []
    },
    {
      "cell_type": "markdown",
      "source": [
        "##### What all outlier treatment techniques have you used and why did you use those techniques?"
      ],
      "metadata": {
        "id": "578E2V7j08f6"
      }
    },
    {
      "cell_type": "markdown",
      "source": [
        "Answer Here."
      ],
      "metadata": {
        "id": "uGZz5OrT1HH-"
      }
    },
    {
      "cell_type": "markdown",
      "source": [
        "### 3. Categorical Encoding"
      ],
      "metadata": {
        "id": "89xtkJwZ18nB"
      }
    },
    {
      "cell_type": "code",
      "source": [
        "# Encode your categorical columns"
      ],
      "metadata": {
        "id": "21JmIYMG2hEo"
      },
      "execution_count": null,
      "outputs": []
    },
    {
      "cell_type": "markdown",
      "source": [
        "#### What all categorical encoding techniques have you used & why did you use those techniques?"
      ],
      "metadata": {
        "id": "67NQN5KX2AMe"
      }
    },
    {
      "cell_type": "markdown",
      "source": [
        "Answer Here."
      ],
      "metadata": {
        "id": "UDaue5h32n_G"
      }
    },
    {
      "cell_type": "markdown",
      "source": [
        "### 4. Textual Data Preprocessing\n",
        "(It's mandatory for textual dataset i.e., NLP, Sentiment Analysis, Text Clustering etc.)"
      ],
      "metadata": {
        "id": "Iwf50b-R2tYG"
      }
    },
    {
      "cell_type": "markdown",
      "source": [
        "#### 1. Expand Contraction"
      ],
      "metadata": {
        "id": "GMQiZwjn3iu7"
      }
    },
    {
      "cell_type": "code",
      "source": [
        "# Expand Contraction"
      ],
      "metadata": {
        "id": "PTouz10C3oNN"
      },
      "execution_count": null,
      "outputs": []
    },
    {
      "cell_type": "markdown",
      "source": [
        "#### 2. Lower Casing"
      ],
      "metadata": {
        "id": "WVIkgGqN3qsr"
      }
    },
    {
      "cell_type": "code",
      "source": [
        "# Lower Casing"
      ],
      "metadata": {
        "id": "88JnJ1jN3w7j"
      },
      "execution_count": null,
      "outputs": []
    },
    {
      "cell_type": "markdown",
      "source": [
        "#### 3. Removing Punctuations"
      ],
      "metadata": {
        "id": "XkPnILGE3zoT"
      }
    },
    {
      "cell_type": "code",
      "source": [
        "# Remove Punctuations"
      ],
      "metadata": {
        "id": "vqbBqNaA33c0"
      },
      "execution_count": null,
      "outputs": []
    },
    {
      "cell_type": "markdown",
      "source": [
        "#### 4. Removing URLs & Removing words and digits contain digits."
      ],
      "metadata": {
        "id": "Hlsf0x5436Go"
      }
    },
    {
      "cell_type": "code",
      "source": [
        "# Remove URLs & Remove words and digits contain digits"
      ],
      "metadata": {
        "id": "2sxKgKxu4Ip3"
      },
      "execution_count": null,
      "outputs": []
    },
    {
      "cell_type": "markdown",
      "source": [
        "#### 5. Removing Stopwords & Removing White spaces"
      ],
      "metadata": {
        "id": "mT9DMSJo4nBL"
      }
    },
    {
      "cell_type": "code",
      "source": [
        "# Remove Stopwords"
      ],
      "metadata": {
        "id": "T2LSJh154s8W"
      },
      "execution_count": null,
      "outputs": []
    },
    {
      "cell_type": "code",
      "source": [
        "# Remove White spaces"
      ],
      "metadata": {
        "id": "EgLJGffy4vm0"
      },
      "execution_count": null,
      "outputs": []
    },
    {
      "cell_type": "markdown",
      "source": [
        "#### 6. Rephrase Text"
      ],
      "metadata": {
        "id": "c49ITxTc407N"
      }
    },
    {
      "cell_type": "code",
      "source": [
        "# Rephrase Text"
      ],
      "metadata": {
        "id": "foqY80Qu48N2"
      },
      "execution_count": null,
      "outputs": []
    },
    {
      "cell_type": "markdown",
      "source": [
        "#### 7. Tokenization"
      ],
      "metadata": {
        "id": "OeJFEK0N496M"
      }
    },
    {
      "cell_type": "code",
      "source": [
        "# Tokenization"
      ],
      "metadata": {
        "id": "ijx1rUOS5CUU"
      },
      "execution_count": null,
      "outputs": []
    },
    {
      "cell_type": "markdown",
      "source": [
        "#### 8. Text Normalization"
      ],
      "metadata": {
        "id": "9ExmJH0g5HBk"
      }
    },
    {
      "cell_type": "code",
      "source": [
        "# Normalizing Text (i.e., Stemming, Lemmatization etc.)"
      ],
      "metadata": {
        "id": "AIJ1a-Zc5PY8"
      },
      "execution_count": null,
      "outputs": []
    },
    {
      "cell_type": "markdown",
      "source": [
        "##### Which text normalization technique have you used and why?"
      ],
      "metadata": {
        "id": "cJNqERVU536h"
      }
    },
    {
      "cell_type": "markdown",
      "source": [
        "Answer Here."
      ],
      "metadata": {
        "id": "Z9jKVxE06BC1"
      }
    },
    {
      "cell_type": "markdown",
      "source": [
        "#### 9. Part of speech tagging"
      ],
      "metadata": {
        "id": "k5UmGsbsOxih"
      }
    },
    {
      "cell_type": "code",
      "source": [
        "# POS Taging"
      ],
      "metadata": {
        "id": "btT3ZJBAO6Ik"
      },
      "execution_count": null,
      "outputs": []
    },
    {
      "cell_type": "markdown",
      "source": [
        "#### 10. Text Vectorization"
      ],
      "metadata": {
        "id": "T0VqWOYE6DLQ"
      }
    },
    {
      "cell_type": "code",
      "source": [
        "# Vectorizing Text"
      ],
      "metadata": {
        "id": "yBRtdhth6JDE"
      },
      "execution_count": null,
      "outputs": []
    },
    {
      "cell_type": "markdown",
      "source": [
        "##### Which text vectorization technique have you used and why?"
      ],
      "metadata": {
        "id": "qBMux9mC6MCf"
      }
    },
    {
      "cell_type": "markdown",
      "source": [
        "Answer Here."
      ],
      "metadata": {
        "id": "su2EnbCh6UKQ"
      }
    },
    {
      "cell_type": "markdown",
      "source": [
        "### 4. Feature Manipulation & Selection"
      ],
      "metadata": {
        "id": "-oLEiFgy-5Pf"
      }
    },
    {
      "cell_type": "markdown",
      "source": [
        "#### 1. Feature Manipulation"
      ],
      "metadata": {
        "id": "C74aWNz2AliB"
      }
    },
    {
      "cell_type": "code",
      "source": [
        "# Manipulate Features to minimize feature correlation and create new features"
      ],
      "metadata": {
        "id": "h1qC4yhBApWC"
      },
      "execution_count": null,
      "outputs": []
    },
    {
      "cell_type": "markdown",
      "source": [
        "#### 2. Feature Selection"
      ],
      "metadata": {
        "id": "2DejudWSA-a0"
      }
    },
    {
      "cell_type": "code",
      "source": [
        "# Select your features wisely to avoid overfitting"
      ],
      "metadata": {
        "id": "YLhe8UmaBCEE"
      },
      "execution_count": null,
      "outputs": []
    },
    {
      "cell_type": "markdown",
      "source": [
        "##### What all feature selection methods have you used  and why?"
      ],
      "metadata": {
        "id": "pEMng2IbBLp7"
      }
    },
    {
      "cell_type": "markdown",
      "source": [
        "Answer Here."
      ],
      "metadata": {
        "id": "rb2Lh6Z8BgGs"
      }
    },
    {
      "cell_type": "markdown",
      "source": [
        "##### Which all features you found important and why?"
      ],
      "metadata": {
        "id": "rAdphbQ9Bhjc"
      }
    },
    {
      "cell_type": "markdown",
      "source": [
        "Answer Here."
      ],
      "metadata": {
        "id": "fGgaEstsBnaf"
      }
    },
    {
      "cell_type": "markdown",
      "source": [
        "### 5. Data Transformation"
      ],
      "metadata": {
        "id": "TNVZ9zx19K6k"
      }
    },
    {
      "cell_type": "markdown",
      "source": [
        "#### Do you think that your data needs to be transformed? If yes, which transformation have you used. Explain Why?"
      ],
      "metadata": {
        "id": "nqoHp30x9hH9"
      }
    },
    {
      "cell_type": "code",
      "source": [
        "# Transform Your data"
      ],
      "metadata": {
        "id": "I6quWQ1T9rtH"
      },
      "execution_count": null,
      "outputs": []
    },
    {
      "cell_type": "markdown",
      "source": [
        "### 6. Data Scaling"
      ],
      "metadata": {
        "id": "rMDnDkt2B6du"
      }
    },
    {
      "cell_type": "code",
      "source": [
        "# Scaling your data"
      ],
      "metadata": {
        "id": "dL9LWpySC6x_"
      },
      "execution_count": null,
      "outputs": []
    },
    {
      "cell_type": "markdown",
      "source": [
        "##### Which method have you used to scale you data and why?"
      ],
      "metadata": {
        "id": "yiiVWRdJDDil"
      }
    },
    {
      "cell_type": "markdown",
      "source": [
        "### 7. Dimesionality Reduction"
      ],
      "metadata": {
        "id": "1UUpS68QDMuG"
      }
    },
    {
      "cell_type": "markdown",
      "source": [
        "##### Do you think that dimensionality reduction is needed? Explain Why?"
      ],
      "metadata": {
        "id": "kexQrXU-DjzY"
      }
    },
    {
      "cell_type": "markdown",
      "source": [
        "Answer Here."
      ],
      "metadata": {
        "id": "GGRlBsSGDtTQ"
      }
    },
    {
      "cell_type": "code",
      "source": [
        "# DImensionality Reduction (If needed)"
      ],
      "metadata": {
        "id": "kQfvxBBHDvCa"
      },
      "execution_count": null,
      "outputs": []
    },
    {
      "cell_type": "markdown",
      "source": [
        "##### Which dimensionality reduction technique have you used and why? (If dimensionality reduction done on dataset.)"
      ],
      "metadata": {
        "id": "T5CmagL3EC8N"
      }
    },
    {
      "cell_type": "markdown",
      "source": [
        "Answer Here."
      ],
      "metadata": {
        "id": "ZKr75IDuEM7t"
      }
    },
    {
      "cell_type": "markdown",
      "source": [
        "### 8. Data Splitting"
      ],
      "metadata": {
        "id": "BhH2vgX9EjGr"
      }
    },
    {
      "cell_type": "code",
      "source": [
        "# Split your data to train and test. Choose Splitting ratio wisely."
      ],
      "metadata": {
        "id": "0CTyd2UwEyNM"
      },
      "execution_count": null,
      "outputs": []
    },
    {
      "cell_type": "markdown",
      "source": [
        "##### What data splitting ratio have you used and why?"
      ],
      "metadata": {
        "id": "qjKvONjwE8ra"
      }
    },
    {
      "cell_type": "markdown",
      "source": [
        "Answer Here."
      ],
      "metadata": {
        "id": "Y2lJ8cobFDb_"
      }
    },
    {
      "cell_type": "markdown",
      "source": [
        "### 9. Handling Imbalanced Dataset"
      ],
      "metadata": {
        "id": "P1XJ9OREExlT"
      }
    },
    {
      "cell_type": "markdown",
      "source": [
        "##### Do you think the dataset is imbalanced? Explain Why."
      ],
      "metadata": {
        "id": "VFOzZv6IFROw"
      }
    },
    {
      "cell_type": "markdown",
      "source": [
        "Answer Here."
      ],
      "metadata": {
        "id": "GeKDIv7pFgcC"
      }
    },
    {
      "cell_type": "code",
      "source": [
        "# Handling Imbalanced Dataset (If needed)"
      ],
      "metadata": {
        "id": "nQsRhhZLFiDs"
      },
      "execution_count": null,
      "outputs": []
    },
    {
      "cell_type": "markdown",
      "source": [
        "##### What technique did you use to handle the imbalance dataset and why? (If needed to be balanced)"
      ],
      "metadata": {
        "id": "TIqpNgepFxVj"
      }
    },
    {
      "cell_type": "markdown",
      "source": [
        "Answer Here."
      ],
      "metadata": {
        "id": "qbet1HwdGDTz"
      }
    },
    {
      "cell_type": "markdown",
      "source": [
        "## ***7. ML Model Implementation***"
      ],
      "metadata": {
        "id": "VfCC591jGiD4"
      }
    },
    {
      "cell_type": "markdown",
      "source": [
        "### ML Model - 1"
      ],
      "metadata": {
        "id": "OB4l2ZhMeS1U"
      }
    },
    {
      "cell_type": "code",
      "source": [
        "# ML Model - 1 Implementation\n",
        "\n",
        "# Fit the Algorithm\n",
        "\n",
        "# Predict on the model"
      ],
      "metadata": {
        "id": "7ebyywQieS1U"
      },
      "execution_count": null,
      "outputs": []
    },
    {
      "cell_type": "markdown",
      "source": [
        "#### 1. Explain the ML Model used and it's performance using Evaluation metric Score Chart."
      ],
      "metadata": {
        "id": "ArJBuiUVfxKd"
      }
    },
    {
      "cell_type": "code",
      "source": [
        "# Visualizing evaluation Metric Score chart"
      ],
      "metadata": {
        "id": "rqD5ZohzfxKe"
      },
      "execution_count": null,
      "outputs": []
    },
    {
      "cell_type": "markdown",
      "source": [
        "#### 2. Cross- Validation & Hyperparameter Tuning"
      ],
      "metadata": {
        "id": "4qY1EAkEfxKe"
      }
    },
    {
      "cell_type": "code",
      "source": [
        "# ML Model - 1 Implementation with hyperparameter optimization techniques (i.e., GridSearch CV, RandomSearch CV, Bayesian Optimization etc.)\n",
        "\n",
        "# Fit the Algorithm\n",
        "\n",
        "# Predict on the model"
      ],
      "metadata": {
        "id": "Dy61ujd6fxKe"
      },
      "execution_count": null,
      "outputs": []
    },
    {
      "cell_type": "markdown",
      "source": [
        "##### Which hyperparameter optimization technique have you used and why?"
      ],
      "metadata": {
        "id": "PiV4Ypx8fxKe"
      }
    },
    {
      "cell_type": "markdown",
      "source": [
        "Answer Here."
      ],
      "metadata": {
        "id": "negyGRa7fxKf"
      }
    },
    {
      "cell_type": "markdown",
      "source": [
        "##### Have you seen any improvement? Note down the improvement with updates Evaluation metric Score Chart."
      ],
      "metadata": {
        "id": "TfvqoZmBfxKf"
      }
    },
    {
      "cell_type": "markdown",
      "source": [
        "Answer Here."
      ],
      "metadata": {
        "id": "OaLui8CcfxKf"
      }
    },
    {
      "cell_type": "markdown",
      "source": [
        "### ML Model - 2"
      ],
      "metadata": {
        "id": "dJ2tPlVmpsJ0"
      }
    },
    {
      "cell_type": "markdown",
      "source": [
        "#### 1. Explain the ML Model used and it's performance using Evaluation metric Score Chart."
      ],
      "metadata": {
        "id": "JWYfwnehpsJ1"
      }
    },
    {
      "cell_type": "code",
      "source": [
        "# Visualizing evaluation Metric Score chart"
      ],
      "metadata": {
        "id": "yEl-hgQWpsJ1"
      },
      "execution_count": null,
      "outputs": []
    },
    {
      "cell_type": "markdown",
      "source": [
        "#### 2. Cross- Validation & Hyperparameter Tuning"
      ],
      "metadata": {
        "id": "-jK_YjpMpsJ2"
      }
    },
    {
      "cell_type": "code",
      "source": [
        "# ML Model - 1 Implementation with hyperparameter optimization techniques (i.e., GridSearch CV, RandomSearch CV, Bayesian Optimization etc.)\n",
        "\n",
        "# Fit the Algorithm\n",
        "\n",
        "# Predict on the model"
      ],
      "metadata": {
        "id": "Dn0EOfS6psJ2"
      },
      "execution_count": null,
      "outputs": []
    },
    {
      "cell_type": "markdown",
      "source": [
        "##### Which hyperparameter optimization technique have you used and why?"
      ],
      "metadata": {
        "id": "HAih1iBOpsJ2"
      }
    },
    {
      "cell_type": "markdown",
      "source": [
        "Answer Here."
      ],
      "metadata": {
        "id": "9kBgjYcdpsJ2"
      }
    },
    {
      "cell_type": "markdown",
      "source": [
        "##### Have you seen any improvement? Note down the improvement with updates Evaluation metric Score Chart."
      ],
      "metadata": {
        "id": "zVGeBEFhpsJ2"
      }
    },
    {
      "cell_type": "markdown",
      "source": [
        "Answer Here."
      ],
      "metadata": {
        "id": "74yRdG6UpsJ3"
      }
    },
    {
      "cell_type": "markdown",
      "source": [
        "#### 3. Explain each evaluation metric's indication towards business and the business impact pf the ML model used."
      ],
      "metadata": {
        "id": "bmKjuQ-FpsJ3"
      }
    },
    {
      "cell_type": "markdown",
      "source": [
        "Answer Here."
      ],
      "metadata": {
        "id": "BDKtOrBQpsJ3"
      }
    },
    {
      "cell_type": "markdown",
      "source": [
        "### ML Model - 3"
      ],
      "metadata": {
        "id": "Fze-IPXLpx6K"
      }
    },
    {
      "cell_type": "code",
      "source": [
        "# ML Model - 3 Implementation\n",
        "\n",
        "# Fit the Algorithm\n",
        "\n",
        "# Predict on the model"
      ],
      "metadata": {
        "id": "FFrSXAtrpx6M"
      },
      "execution_count": null,
      "outputs": []
    },
    {
      "cell_type": "markdown",
      "source": [
        "#### 1. Explain the ML Model used and it's performance using Evaluation metric Score Chart."
      ],
      "metadata": {
        "id": "7AN1z2sKpx6M"
      }
    },
    {
      "cell_type": "code",
      "source": [
        "# Visualizing evaluation Metric Score chart"
      ],
      "metadata": {
        "id": "xIY4lxxGpx6M"
      },
      "execution_count": null,
      "outputs": []
    },
    {
      "cell_type": "markdown",
      "source": [
        "#### 2. Cross- Validation & Hyperparameter Tuning"
      ],
      "metadata": {
        "id": "9PIHJqyupx6M"
      }
    },
    {
      "cell_type": "code",
      "source": [
        "# ML Model - 3 Implementation with hyperparameter optimization techniques (i.e., GridSearch CV, RandomSearch CV, Bayesian Optimization etc.)\n",
        "\n",
        "# Fit the Algorithm\n",
        "\n",
        "# Predict on the model"
      ],
      "metadata": {
        "id": "eSVXuaSKpx6M"
      },
      "execution_count": null,
      "outputs": []
    },
    {
      "cell_type": "markdown",
      "source": [
        "##### Which hyperparameter optimization technique have you used and why?"
      ],
      "metadata": {
        "id": "_-qAgymDpx6N"
      }
    },
    {
      "cell_type": "markdown",
      "source": [
        "Answer Here."
      ],
      "metadata": {
        "id": "lQMffxkwpx6N"
      }
    },
    {
      "cell_type": "markdown",
      "source": [
        "##### Have you seen any improvement? Note down the improvement with updates Evaluation metric Score Chart."
      ],
      "metadata": {
        "id": "Z-hykwinpx6N"
      }
    },
    {
      "cell_type": "markdown",
      "source": [
        "Answer Here."
      ],
      "metadata": {
        "id": "MzVzZC6opx6N"
      }
    },
    {
      "cell_type": "markdown",
      "source": [
        "### 1. Which Evaluation metrics did you consider for a positive business impact and why?"
      ],
      "metadata": {
        "id": "h_CCil-SKHpo"
      }
    },
    {
      "cell_type": "markdown",
      "source": [
        "Answer Here."
      ],
      "metadata": {
        "id": "jHVz9hHDKFms"
      }
    },
    {
      "cell_type": "markdown",
      "source": [
        "### 2. Which ML model did you choose from the above created models as your final prediction model and why?"
      ],
      "metadata": {
        "id": "cBFFvTBNJzUa"
      }
    },
    {
      "cell_type": "markdown",
      "source": [
        "Answer Here."
      ],
      "metadata": {
        "id": "6ksF5Q1LKTVm"
      }
    },
    {
      "cell_type": "markdown",
      "source": [
        "### 3. Explain the model which you have used and the feature importance using any model explainability tool?"
      ],
      "metadata": {
        "id": "HvGl1hHyA_VK"
      }
    },
    {
      "cell_type": "markdown",
      "source": [
        "Answer Here."
      ],
      "metadata": {
        "id": "YnvVTiIxBL-C"
      }
    },
    {
      "cell_type": "markdown",
      "source": [
        "## ***8.*** ***Future Work (Optional)***"
      ],
      "metadata": {
        "id": "EyNgTHvd2WFk"
      }
    },
    {
      "cell_type": "markdown",
      "source": [
        "### 1. Save the best performing ml model in a pickle file or joblib file format for deployment process.\n"
      ],
      "metadata": {
        "id": "KH5McJBi2d8v"
      }
    },
    {
      "cell_type": "code",
      "source": [
        "# Save the File"
      ],
      "metadata": {
        "id": "bQIANRl32f4J"
      },
      "execution_count": null,
      "outputs": []
    },
    {
      "cell_type": "markdown",
      "source": [
        "### 2. Again Load the saved model file and try to predict unseen data for a sanity check.\n"
      ],
      "metadata": {
        "id": "iW_Lq9qf2h6X"
      }
    },
    {
      "cell_type": "code",
      "source": [
        "# Load the File and predict unseen data."
      ],
      "metadata": {
        "id": "oEXk9ydD2nVC"
      },
      "execution_count": null,
      "outputs": []
    },
    {
      "cell_type": "markdown",
      "source": [
        "### ***Congrats! Your model is successfully created and ready for deployment on a live server for a real user interaction !!!***"
      ],
      "metadata": {
        "id": "-Kee-DAl2viO"
      }
    },
    {
      "cell_type": "markdown",
      "source": [
        "# **Conclusion**"
      ],
      "metadata": {
        "id": "gCX9965dhzqZ"
      }
    },
    {
      "cell_type": "markdown",
      "source": [
        "Write the conclusion here."
      ],
      "metadata": {
        "id": "Fjb1IsQkh3yE"
      }
    },
    {
      "cell_type": "markdown",
      "source": [
        "### ***Hurrah! You have successfully completed your Machine Learning Capstone Project !!!***"
      ],
      "metadata": {
        "id": "gIfDvo9L0UH2"
      }
    }
  ]
}